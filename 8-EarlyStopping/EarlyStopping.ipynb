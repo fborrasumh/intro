{
  "nbformat": 4,
  "nbformat_minor": 0,
  "metadata": {
    "colab": {
      "name": "Early Stopping",
      "version": "0.3.2",
      "provenance": []
    },
    "kernelspec": {
      "name": "python3",
      "display_name": "Python 3"
    },
    "accelerator": "GPU"
  },
  "cells": [
    {
      "metadata": {
        "id": "hSya9q_2FG-D",
        "colab_type": "code",
        "colab": {}
      },
      "cell_type": "code",
      "source": [
        "%matplotlib inline"
      ],
      "execution_count": 0,
      "outputs": []
    },
    {
      "metadata": {
        "id": "M87WTAZJFTMf",
        "colab_type": "text"
      },
      "cell_type": "markdown",
      "source": [
        "## Install dependencies\n",
        "\n",
        "**Check for GPU**\n",
        "\n",
        "First make sure the nvidia-smi command returns information about the available GPU. If it does not, click Runtime > Change runtime type > Hardware accelerator > GPU. Then run the nvidia-smi command again."
      ]
    },
    {
      "metadata": {
        "id": "IkHOB5N9Fr8b",
        "colab_type": "code",
        "outputId": "792b2bf5-98be-4ad5-ddb9-92a96095a9cd",
        "colab": {
          "base_uri": "https://localhost:8080/",
          "height": 334
        }
      },
      "cell_type": "code",
      "source": [
        "!nvidia-smi"
      ],
      "execution_count": 2,
      "outputs": [
        {
          "output_type": "stream",
          "text": [
            "Tue Nov 27 13:11:57 2018       \n",
            "+-----------------------------------------------------------------------------+\n",
            "| NVIDIA-SMI 396.44                 Driver Version: 396.44                    |\n",
            "|-------------------------------+----------------------+----------------------+\n",
            "| GPU  Name        Persistence-M| Bus-Id        Disp.A | Volatile Uncorr. ECC |\n",
            "| Fan  Temp  Perf  Pwr:Usage/Cap|         Memory-Usage | GPU-Util  Compute M. |\n",
            "|===============================+======================+======================|\n",
            "|   0  Tesla K80           Off  | 00000000:00:04.0 Off |                    0 |\n",
            "| N/A   73C    P8    32W / 149W |      0MiB / 11441MiB |      0%      Default |\n",
            "+-------------------------------+----------------------+----------------------+\n",
            "                                                                               \n",
            "+-----------------------------------------------------------------------------+\n",
            "| Processes:                                                       GPU Memory |\n",
            "|  GPU       PID   Type   Process name                             Usage      |\n",
            "|=============================================================================|\n",
            "|  No running processes found                                                 |\n",
            "+-----------------------------------------------------------------------------+\n"
          ],
          "name": "stdout"
        }
      ]
    },
    {
      "metadata": {
        "id": "SLok2pPHF3dc",
        "colab_type": "code",
        "outputId": "99d72d7c-4f43-4c5f-b74b-66c3788cdd03",
        "colab": {
          "base_uri": "https://localhost:8080/",
          "height": 334
        }
      },
      "cell_type": "code",
      "source": [
        "!pip3 install http://download.pytorch.org/whl/cu92/torch-0.4.1-cp36-cp36m-linux_x86_64.whl torchvision"
      ],
      "execution_count": 3,
      "outputs": [
        {
          "output_type": "stream",
          "text": [
            "Collecting torch==0.4.1 from http://download.pytorch.org/whl/cu92/torch-0.4.1-cp36-cp36m-linux_x86_64.whl\n",
            "\u001b[?25l  Downloading http://download.pytorch.org/whl/cu92/torch-0.4.1-cp36-cp36m-linux_x86_64.whl (512.6MB)\n",
            "\u001b[K    100% |████████████████████████████████| 512.6MB 64.0MB/s \n",
            "tcmalloc: large alloc 1073750016 bytes == 0x5794a000 @  0x7f458c77a2a4 0x591a07 0x5b5d56 0x502e9a 0x506859 0x502209 0x502f3d 0x506859 0x504c28 0x502540 0x502f3d 0x506859 0x504c28 0x502540 0x502f3d 0x506859 0x504c28 0x502540 0x502f3d 0x507641 0x502209 0x502f3d 0x506859 0x504c28 0x502540 0x502f3d 0x507641 0x504c28 0x502540 0x502f3d 0x507641\n",
            "\u001b[?25hCollecting torchvision\n",
            "\u001b[?25l  Downloading https://files.pythonhosted.org/packages/ca/0d/f00b2885711e08bd71242ebe7b96561e6f6d01fdb4b9dcf4d37e2e13c5e1/torchvision-0.2.1-py2.py3-none-any.whl (54kB)\n",
            "\u001b[K    100% |████████████████████████████████| 61kB 2.7MB/s \n",
            "\u001b[?25hRequirement already satisfied: six in /usr/local/lib/python3.6/dist-packages (from torchvision) (1.11.0)\n",
            "Collecting pillow>=4.1.1 (from torchvision)\n",
            "\u001b[?25l  Downloading https://files.pythonhosted.org/packages/62/94/5430ebaa83f91cc7a9f687ff5238e26164a779cca2ef9903232268b0a318/Pillow-5.3.0-cp36-cp36m-manylinux1_x86_64.whl (2.0MB)\n",
            "\u001b[K    100% |████████████████████████████████| 2.0MB 4.0MB/s \n",
            "\u001b[?25hRequirement already satisfied: numpy in /usr/local/lib/python3.6/dist-packages (from torchvision) (1.14.6)\n",
            "Installing collected packages: torch, pillow, torchvision\n",
            "  Found existing installation: Pillow 4.0.0\n",
            "    Uninstalling Pillow-4.0.0:\n",
            "      Successfully uninstalled Pillow-4.0.0\n",
            "Successfully installed pillow-5.3.0 torch-0.4.1 torchvision-0.2.1\n"
          ],
          "name": "stdout"
        }
      ]
    },
    {
      "metadata": {
        "id": "sxFpz4t9GGjs",
        "colab_type": "code",
        "outputId": "575b3184-e537-4d69-aea7-d5493ab24f03",
        "colab": {
          "base_uri": "https://localhost:8080/",
          "height": 139
        }
      },
      "cell_type": "code",
      "source": [
        "!git clone https://github.com/sg2/intro"
      ],
      "execution_count": 4,
      "outputs": [
        {
          "output_type": "stream",
          "text": [
            "Cloning into 'intro'...\n",
            "remote: Enumerating objects: 31, done.\u001b[K\n",
            "remote: Counting objects: 100% (31/31), done.\u001b[K\n",
            "remote: Compressing objects: 100% (30/30), done.\u001b[K\n",
            "remote: Total 410 (delta 13), reused 4 (delta 0), pack-reused 379\u001b[K\n",
            "Receiving objects: 100% (410/410), 17.29 MiB | 29.03 MiB/s, done.\n",
            "Resolving deltas: 100% (165/165), done.\n"
          ],
          "name": "stdout"
        }
      ]
    },
    {
      "metadata": {
        "id": "CDHwcRxregCO",
        "colab_type": "code",
        "outputId": "0b84e17d-6759-4bf8-d48f-dffc5f2bb750",
        "colab": {
          "base_uri": "https://localhost:8080/",
          "height": 34
        }
      },
      "cell_type": "code",
      "source": [
        "cd intro/8-EarlyStopping"
      ],
      "execution_count": 5,
      "outputs": [
        {
          "output_type": "stream",
          "text": [
            "/content/intro/8-EarlyStopping\n"
          ],
          "name": "stdout"
        }
      ]
    },
    {
      "metadata": {
        "colab_type": "text",
        "id": "MFmciSGAivAl"
      },
      "cell_type": "markdown",
      "source": [
        "Early stopping\n",
        "=====================\n",
        "Adapted from https://pytorch.org/tutorials/beginner/deep_learning_60min_blitz.html\n",
        "\n",
        "Data should be split into train/dev/test splits.\n",
        "\n",
        "1. Training set: a set of examples used for learning: to fit the parameters of the classifier.\n",
        "\n",
        "2. Dev set: a set of examples used to tune the parameters of a classifier. We would use the validation set to find the \"optimal\" number of hidden units or determine a stopping point for the back-propagation algorithm.\n",
        "\n",
        "3. Test set: a set of examples used only to assess the performance of a fully-trained classifier. We use this test to estimate the error rate after we have chosen the final model. After assessing the final model on the test set, YOU MUST NOT tune the model any further!\n",
        "\n",
        "Reference: https://stats.stackexchange.com/questions/19048/what-is-the-difference-between-test-set-and-validation-set\n",
        "\n",
        "## Early stopping\n",
        "Early stopping is a technique to prevent over-fitting to the train set.\n",
        "\n",
        "![](https://github.com/sg2/intro/blob/master/8-EarlyStopping/images/early_stopping.png?raw=1)"
      ]
    },
    {
      "metadata": {
        "id": "4iFYowbFGFCh",
        "colab_type": "text"
      },
      "cell_type": "markdown",
      "source": [
        "## 1. Load and normalizing the CIFAR10 training and test datasets using\n",
        "Using ``torchvision``, it’s extremely easy to load CIFAR10."
      ]
    },
    {
      "metadata": {
        "id": "6inzmM3VFG-J",
        "colab_type": "code",
        "colab": {}
      },
      "cell_type": "code",
      "source": [
        "import numpy as np\n",
        "\n",
        "import torch\n",
        "import torchvision\n",
        "import torchvision.transforms as transforms\n",
        "from torch.utils.data.sampler import SubsetRandomSampler"
      ],
      "execution_count": 0,
      "outputs": []
    },
    {
      "metadata": {
        "id": "Z0XqWMQzP7Zv",
        "colab_type": "text"
      },
      "cell_type": "markdown",
      "source": [
        "Set the device to GPU"
      ]
    },
    {
      "metadata": {
        "id": "lDVUNpjKP_zB",
        "colab_type": "code",
        "outputId": "bfbca5c5-fbba-4a54-b213-744d062d24d6",
        "colab": {
          "base_uri": "https://localhost:8080/",
          "height": 34
        }
      },
      "cell_type": "code",
      "source": [
        "device = torch.device(\"cuda:0\" if torch.cuda.is_available() else \"cpu\")\n",
        "print(device)"
      ],
      "execution_count": 7,
      "outputs": [
        {
          "output_type": "stream",
          "text": [
            "cuda:0\n"
          ],
          "name": "stdout"
        }
      ]
    },
    {
      "metadata": {
        "id": "uw4c8jyxFG-N",
        "colab_type": "text"
      },
      "cell_type": "markdown",
      "source": [
        "The output of torchvision datasets are PILImage images of range [0, 1].\n",
        "We transform them to Tensors of normalized range [-1, 1].\n",
        "\n"
      ]
    },
    {
      "metadata": {
        "id": "mTrKC6bDFG-O",
        "colab_type": "code",
        "outputId": "0530a01e-246c-4855-9d4f-36afd7468578",
        "colab": {
          "base_uri": "https://localhost:8080/",
          "height": 52
        }
      },
      "cell_type": "code",
      "source": [
        "transform = transforms.Compose(\n",
        "    [transforms.ToTensor(),\n",
        "     transforms.Normalize((0.5, 0.5, 0.5), (0.5, 0.5, 0.5))])\n",
        "\n",
        "trainset = torchvision.datasets.CIFAR10(root='./data', train=True,\n",
        "                                        download=True, transform=transform)\n",
        "trainloader = torch.utils.data.DataLoader(trainset, batch_size=32,\n",
        "                                          shuffle=True, num_workers=2)\n",
        "\n",
        "devtestset = torchvision.datasets.CIFAR10(root='./data', train=False,\n",
        "                                       download=True, transform=transform)\n",
        "\n",
        "classes = ('plane', 'car', 'bird', 'cat',\n",
        "           'deer', 'dog', 'frog', 'horse', 'ship', 'truck')"
      ],
      "execution_count": 9,
      "outputs": [
        {
          "output_type": "stream",
          "text": [
            "Files already downloaded and verified\n",
            "Files already downloaded and verified\n"
          ],
          "name": "stdout"
        }
      ]
    },
    {
      "metadata": {
        "id": "AjFKTkxUFGRN",
        "colab_type": "text"
      },
      "cell_type": "markdown",
      "source": [
        "Split the devtestset into a dev_set and a test_set"
      ]
    },
    {
      "metadata": {
        "id": "NwZM8QR8EJQ6",
        "colab_type": "code",
        "colab": {}
      },
      "cell_type": "code",
      "source": [
        "batch_size = 32\n",
        "test_split = .2\n",
        "shuffle_dataset = True\n",
        "random_seed= 42\n",
        "\n",
        "# Creating data indices for training and validation splits:\n",
        "tevtestset_size = len(devtestset)\n",
        "indices = list(range(tevtestset_size))\n",
        "split = int(np.floor(test_split * tevtestset_size))\n",
        "if shuffle_dataset :\n",
        "    np.random.seed(random_seed)\n",
        "    np.random.shuffle(indices)\n",
        "dev_indices, test_indices = indices[split:], indices[:split]\n",
        "\n",
        "# Creating PT data samplers and loaders:\n",
        "dev_sampler = SubsetRandomSampler(dev_indices)\n",
        "test_sampler = SubsetRandomSampler(test_indices)\n",
        "\n",
        "devloader = torch.utils.data.DataLoader(devtestset, batch_size=batch_size, \n",
        "                                           sampler=dev_sampler)\n",
        "testloader = torch.utils.data.DataLoader(devtestset, batch_size=batch_size,\n",
        "                                                sampler=test_sampler)"
      ],
      "execution_count": 0,
      "outputs": []
    },
    {
      "metadata": {
        "id": "wJ0xxpgDFG-T",
        "colab_type": "text"
      },
      "cell_type": "markdown",
      "source": [
        "Let us show some of the training images, for fun.\n",
        "\n"
      ]
    },
    {
      "metadata": {
        "id": "oTqgQwdbFG-U",
        "colab_type": "code",
        "outputId": "c63bf5de-745f-4725-9311-a20328347801",
        "colab": {
          "base_uri": "https://localhost:8080/",
          "height": 257
        }
      },
      "cell_type": "code",
      "source": [
        "import matplotlib.pyplot as plt\n",
        "import numpy as np\n",
        "\n",
        "# functions to show an image\n",
        "\n",
        "\n",
        "def imshow(img):\n",
        "    img = img / 2 + 0.5     # unnormalize\n",
        "    npimg = img.numpy()\n",
        "    plt.imshow(np.transpose(npimg, (1, 2, 0)))\n",
        "\n",
        "\n",
        "# get some random training images\n",
        "dataiter = iter(trainloader)\n",
        "images, labels = dataiter.next()\n",
        "\n",
        "# show images\n",
        "imshow(torchvision.utils.make_grid(images))\n",
        "# print labels\n",
        "print(' '.join('%5s' % classes[labels[j]] for j in range(32)))"
      ],
      "execution_count": 11,
      "outputs": [
        {
          "output_type": "stream",
          "text": [
            "  cat  deer  frog   cat  ship  ship truck  bird truck horse  bird   car truck plane  bird   car   car  ship  frog  bird   dog  deer truck  ship  bird  frog   cat  bird truck horse  ship   cat\n"
          ],
          "name": "stdout"
        },
        {
          "output_type": "display_data",
          "data": {
            "image/png": "[encoded data removed]",
            "text/plain": [
              "<matplotlib.figure.Figure at 0x7fd67d745470>"
            ]
          },
          "metadata": {
            "tags": []
          }
        }
      ]
    },
    {
      "metadata": {
        "id": "KpBUA1iCFG-a",
        "colab_type": "text"
      },
      "cell_type": "markdown",
      "source": [
        "## 2. Define a Convolution Neural Network\n",
        "\n",
        "Needs 3 channels for first layer.\n",
        "\n"
      ]
    },
    {
      "metadata": {
        "id": "G-FBzd78FG-c",
        "colab_type": "code",
        "outputId": "0d18e2f4-8f74-42fd-e2c8-2023eff53e9b",
        "colab": {
          "base_uri": "https://localhost:8080/",
          "height": 177
        }
      },
      "cell_type": "code",
      "source": [
        "import torch.nn as nn\n",
        "import torch.nn.functional as F\n",
        "\n",
        "class Net(nn.Module):\n",
        "    def __init__(self):\n",
        "        super(Net, self).__init__()\n",
        "        self.conv1 = nn.Conv2d(3, 6, 5)\n",
        "        self.pool = nn.MaxPool2d(2, 2)\n",
        "        self.conv2 = nn.Conv2d(6, 16, 5)\n",
        "        self.fc1 = nn.Linear(16 * 5 * 5, 120)\n",
        "        self.fc2 = nn.Linear(120, 84)\n",
        "        self.fc3 = nn.Linear(84, 10)\n",
        "\n",
        "    def forward(self, x):\n",
        "        x = self.pool(F.relu(self.conv1(x)))\n",
        "        x = self.pool(F.relu(self.conv2(x)))\n",
        "        x = x.view(-1, 16 * 5 * 5)\n",
        "        x = F.relu(self.fc1(x))\n",
        "        x = F.relu(self.fc2(x))\n",
        "        x = self.fc3(x)\n",
        "        return x\n",
        "\n",
        "net = Net()\n",
        "net.to(device)"
      ],
      "execution_count": 24,
      "outputs": [
        {
          "output_type": "execute_result",
          "data": {
            "text/plain": [
              "Net(\n",
              "  (conv1): Conv2d(3, 6, kernel_size=(5, 5), stride=(1, 1))\n",
              "  (pool): MaxPool2d(kernel_size=2, stride=2, padding=0, dilation=1, ceil_mode=False)\n",
              "  (conv2): Conv2d(6, 16, kernel_size=(5, 5), stride=(1, 1))\n",
              "  (fc1): Linear(in_features=400, out_features=120, bias=True)\n",
              "  (fc2): Linear(in_features=120, out_features=84, bias=True)\n",
              "  (fc3): Linear(in_features=84, out_features=10, bias=True)\n",
              ")"
            ]
          },
          "metadata": {
            "tags": []
          },
          "execution_count": 24
        }
      ]
    },
    {
      "metadata": {
        "id": "ECWRz_FrFG-h",
        "colab_type": "text"
      },
      "cell_type": "markdown",
      "source": [
        "## 3. Define a Loss function and optimizer\n",
        "\n",
        "Let's use a Classification Cross-Entropy loss and SGD with momentum.\n",
        "\n"
      ]
    },
    {
      "metadata": {
        "id": "Y6lZFp4mFG-j",
        "colab_type": "code",
        "colab": {}
      },
      "cell_type": "code",
      "source": [
        "import torch.optim as optim\n",
        "\n",
        "criterion = nn.CrossEntropyLoss()\n",
        "optimizer = optim.SGD(net.parameters(), lr=0.001, momentum=0.9)"
      ],
      "execution_count": 0,
      "outputs": []
    },
    {
      "metadata": {
        "id": "05qA0cr3FG-n",
        "colab_type": "text"
      },
      "cell_type": "markdown",
      "source": [
        "## 4. Train the network\n",
        "\n",
        "\n",
        "This is when things start to get interesting.\n",
        "We simply have to loop over our data iterator, and feed the inputs to the\n",
        "network and optimize.\n",
        "\n"
      ]
    },
    {
      "metadata": {
        "id": "fMz2FUcQFG-o",
        "colab_type": "code",
        "outputId": "06a7a477-060e-4f46-d9f6-d314b11590c9",
        "colab": {
          "base_uri": "https://localhost:8080/",
          "height": 5315
        }
      },
      "cell_type": "code",
      "source": [
        "# Overfit the data\n",
        "num_epochs = 50\n",
        "\n",
        "# Used for tracking loss and plotting later\n",
        "train_losses = []\n",
        "dev_losses = []\n",
        "\n",
        "print('Training...')\n",
        "for epoch in range(num_epochs):  # loop over the dataset multiple times\n",
        "    print('Epoch', epoch)\n",
        "    train_loss = 0.0   \n",
        "    for i, data in enumerate(trainloader, 0):\n",
        "        # get the inputs\n",
        "        inputs, labels = data\n",
        "      \n",
        "        # Send the inputs to GPU if available\n",
        "        inputs, labels = inputs.to(device), labels.to(device)\n",
        "\n",
        "        # zero the parameter gradients\n",
        "        optimizer.zero_grad()\n",
        "\n",
        "        # forward + backward + optimize\n",
        "        outputs = net(inputs)\n",
        "        loss = criterion(outputs, labels)\n",
        "        loss.backward()\n",
        "        optimizer.step()\n",
        "\n",
        "        # track loss for printing\n",
        "        train_loss += loss.item()\n",
        "       \n",
        "    # print average dev loss\n",
        "    avg_train_loss = train_loss/len(trainloader)\n",
        "    print('  average train mini-batch loss: {:.6f}'.format(avg_train_loss))\n",
        "    train_losses.append(avg_train_loss)\n",
        "\n",
        "    # Calculate dev loss after every epoch\n",
        "    with torch.no_grad():\n",
        "        dev_loss = 0.0\n",
        "        for data in devloader:\n",
        "            images, labels = data\n",
        "            images, labels = images.to(device), labels.to(device)\n",
        "            outputs = net(images)\n",
        "            loss = criterion(outputs, labels)\n",
        "            dev_loss += loss.item()\n",
        "        avg_dev_loss = dev_loss/len(devloader)\n",
        "        print('  average dev mini-batch loss: {:.6f}'.format(avg_dev_loss))\n",
        "        dev_losses.append(avg_dev_loss)\n",
        "            \n",
        "    # Save the model so we can restore later\n",
        "    print('  saving model checkpoint')\n",
        "    # See https://pytorch.org/tutorials/beginner/saving_loading_models.html\n",
        "    torch.save(net.state_dict(), 'net_checkpoint_{}.pth'.format(epoch))\n",
        "\n",
        "print('Finished Training')"
      ],
      "execution_count": 26,
      "outputs": [
        {
          "output_type": "stream",
          "text": [
            "Training...\n",
            "Epoch 0\n",
            "  average train mini-batch loss: 2.206013\n",
            "  average dev mini-batch loss: 1.977465\n",
            "  saving model checkpoint\n",
            "Epoch 1\n",
            "  average train mini-batch loss: 1.808771\n",
            "  average dev mini-batch loss: 1.668541\n",
            "  saving model checkpoint\n",
            "Epoch 2\n",
            "  average train mini-batch loss: 1.594832\n",
            "  average dev mini-batch loss: 1.512006\n",
            "  saving model checkpoint\n",
            "Epoch 3\n",
            "  average train mini-batch loss: 1.472526\n",
            "  average dev mini-batch loss: 1.440247\n",
            "  saving model checkpoint\n",
            "Epoch 4\n",
            "  average train mini-batch loss: 1.394577\n",
            "  average dev mini-batch loss: 1.366740\n",
            "  saving model checkpoint\n",
            "Epoch 5\n",
            "  average train mini-batch loss: 1.331489\n",
            "  average dev mini-batch loss: 1.329606\n",
            "  saving model checkpoint\n",
            "Epoch 6\n",
            "  average train mini-batch loss: 1.276190\n",
            "  average dev mini-batch loss: 1.269243\n",
            "  saving model checkpoint\n",
            "Epoch 7\n",
            "  average train mini-batch loss: 1.235750\n",
            "  average dev mini-batch loss: 1.265457\n",
            "  saving model checkpoint\n",
            "Epoch 8\n",
            "  average train mini-batch loss: 1.192030\n",
            "  average dev mini-batch loss: 1.220569\n",
            "  saving model checkpoint\n",
            "Epoch 9\n",
            "  average train mini-batch loss: 1.151755\n",
            "  average dev mini-batch loss: 1.194403\n",
            "  saving model checkpoint\n",
            "Epoch 10\n",
            "  average train mini-batch loss: 1.113705\n",
            "  average dev mini-batch loss: 1.158403\n",
            "  saving model checkpoint\n",
            "Epoch 11\n",
            "  average train mini-batch loss: 1.078132\n",
            "  average dev mini-batch loss: 1.137284\n",
            "  saving model checkpoint\n",
            "Epoch 12\n",
            "  average train mini-batch loss: 1.043760\n",
            "  average dev mini-batch loss: 1.136460\n",
            "  saving model checkpoint\n",
            "Epoch 13\n",
            "  average train mini-batch loss: 1.010685\n",
            "  average dev mini-batch loss: 1.089701\n",
            "  saving model checkpoint\n",
            "Epoch 14\n",
            "  average train mini-batch loss: 0.979810\n",
            "  average dev mini-batch loss: 1.064935\n",
            "  saving model checkpoint\n",
            "Epoch 15\n",
            "  average train mini-batch loss: 0.952852\n",
            "  average dev mini-batch loss: 1.063503\n",
            "  saving model checkpoint\n",
            "Epoch 16\n",
            "  average train mini-batch loss: 0.923875\n",
            "  average dev mini-batch loss: 1.075166\n",
            "  saving model checkpoint\n",
            "Epoch 17\n",
            "  average train mini-batch loss: 0.898553\n",
            "  average dev mini-batch loss: 1.041796\n",
            "  saving model checkpoint\n",
            "Epoch 18\n",
            "  average train mini-batch loss: 0.875562\n",
            "  average dev mini-batch loss: 1.066033\n",
            "  saving model checkpoint\n",
            "Epoch 19\n",
            "  average train mini-batch loss: 0.855271\n",
            "  average dev mini-batch loss: 1.027582\n",
            "  saving model checkpoint\n",
            "Epoch 20\n",
            "  average train mini-batch loss: 0.833085\n",
            "  average dev mini-batch loss: 1.045352\n",
            "  saving model checkpoint\n",
            "Epoch 21\n",
            "  average train mini-batch loss: 0.808624\n",
            "  average dev mini-batch loss: 1.159579\n",
            "  saving model checkpoint\n",
            "Epoch 22\n",
            "  average train mini-batch loss: 0.791418\n",
            "  average dev mini-batch loss: 1.033026\n",
            "  saving model checkpoint\n",
            "Epoch 23\n",
            "  average train mini-batch loss: 0.770262\n",
            "  average dev mini-batch loss: 1.043150\n",
            "  saving model checkpoint\n",
            "Epoch 24\n",
            "  average train mini-batch loss: 0.753798\n",
            "  average dev mini-batch loss: 1.058053\n",
            "  saving model checkpoint\n",
            "Epoch 25\n",
            "  average train mini-batch loss: 0.730231\n",
            "  average dev mini-batch loss: 1.030590\n",
            "  saving model checkpoint\n",
            "Epoch 26\n",
            "  average train mini-batch loss: 0.711892\n",
            "  average dev mini-batch loss: 1.045533\n",
            "  saving model checkpoint\n",
            "Epoch 27\n",
            "  average train mini-batch loss: 0.692782\n",
            "  average dev mini-batch loss: 1.074511\n",
            "  saving model checkpoint\n",
            "Epoch 28\n",
            "  average train mini-batch loss: 0.679549\n",
            "  average dev mini-batch loss: 1.077931\n",
            "  saving model checkpoint\n",
            "Epoch 29\n",
            "  average train mini-batch loss: 0.661717\n",
            "  average dev mini-batch loss: 1.084119\n",
            "  saving model checkpoint\n",
            "Epoch 30\n",
            "  average train mini-batch loss: 0.645058\n",
            "  average dev mini-batch loss: 1.098805\n",
            "  saving model checkpoint\n",
            "Epoch 31\n",
            "  average train mini-batch loss: 0.627084\n",
            "  average dev mini-batch loss: 1.121365\n",
            "  saving model checkpoint\n",
            "Epoch 32\n",
            "  average train mini-batch loss: 0.610705\n",
            "  average dev mini-batch loss: 1.126494\n",
            "  saving model checkpoint\n",
            "Epoch 33\n",
            "  average train mini-batch loss: 0.595398\n",
            "  average dev mini-batch loss: 1.129619\n",
            "  saving model checkpoint\n",
            "Epoch 34\n",
            "  average train mini-batch loss: 0.584372\n",
            "  average dev mini-batch loss: 1.175336\n",
            "  saving model checkpoint\n",
            "Epoch 35\n",
            "  average train mini-batch loss: 0.567046\n",
            "  average dev mini-batch loss: 1.168886\n",
            "  saving model checkpoint\n",
            "Epoch 36\n",
            "  average train mini-batch loss: 0.554332\n",
            "  average dev mini-batch loss: 1.189359\n",
            "  saving model checkpoint\n",
            "Epoch 37\n",
            "  average train mini-batch loss: 0.539476\n",
            "  average dev mini-batch loss: 1.273797\n",
            "  saving model checkpoint\n",
            "Epoch 38\n",
            "  average train mini-batch loss: 0.524588\n",
            "  average dev mini-batch loss: 1.236328\n",
            "  saving model checkpoint\n",
            "Epoch 39\n",
            "  average train mini-batch loss: 0.512082\n",
            "  average dev mini-batch loss: 1.233948\n",
            "  saving model checkpoint\n",
            "Epoch 40\n",
            "  average train mini-batch loss: 0.496816\n",
            "  average dev mini-batch loss: 1.287864\n",
            "  saving model checkpoint\n",
            "Epoch 41\n",
            "  average train mini-batch loss: 0.486706\n",
            "  average dev mini-batch loss: 1.303947\n",
            "  saving model checkpoint\n",
            "Epoch 42\n",
            "  average train mini-batch loss: 0.467254\n",
            "  average dev mini-batch loss: 1.320644\n",
            "  saving model checkpoint\n",
            "Epoch 43\n",
            "  average train mini-batch loss: 0.462394\n",
            "  average dev mini-batch loss: 1.352320\n",
            "  saving model checkpoint\n",
            "Epoch 44\n",
            "  average train mini-batch loss: 0.452057\n",
            "  average dev mini-batch loss: 1.335241\n",
            "  saving model checkpoint\n",
            "Epoch 45\n",
            "  average train mini-batch loss: 0.433695\n",
            "  average dev mini-batch loss: 1.406844\n",
            "  saving model checkpoint\n",
            "Epoch 46\n",
            "  average train mini-batch loss: 0.425472\n",
            "  average dev mini-batch loss: 1.411974\n",
            "  saving model checkpoint\n",
            "Epoch 47\n",
            "  average train mini-batch loss: 0.409528\n",
            "  average dev mini-batch loss: 1.477659\n",
            "  saving model checkpoint\n",
            "Epoch 48\n"
          ],
          "name": "stdout"
        },
        {
          "output_type": "stream",
          "text": [
            "Process Process-229:\n",
            "Process Process-230:\n",
            "Traceback (most recent call last):\n",
            "  File \"/usr/lib/python3.6/multiprocessing/process.py\", line 258, in _bootstrap\n",
            "    self.run()\n",
            "Traceback (most recent call last):\n",
            "  File \"/usr/lib/python3.6/multiprocessing/process.py\", line 93, in run\n",
            "    self._target(*self._args, **self._kwargs)\n",
            "  File \"/usr/lib/python3.6/multiprocessing/process.py\", line 258, in _bootstrap\n",
            "    self.run()\n",
            "  File \"/usr/lib/python3.6/multiprocessing/process.py\", line 93, in run\n",
            "    self._target(*self._args, **self._kwargs)\n",
            "  File \"/usr/local/lib/python3.6/dist-packages/torch/utils/data/dataloader.py\", line 106, in _worker_loop\n",
            "    samples = collate_fn([dataset[i] for i in batch_indices])\n",
            "  File \"/usr/local/lib/python3.6/dist-packages/torch/utils/data/dataloader.py\", line 106, in <listcomp>\n",
            "    samples = collate_fn([dataset[i] for i in batch_indices])\n",
            "  File \"/usr/local/lib/python3.6/dist-packages/torch/utils/data/dataloader.py\", line 96, in _worker_loop\n",
            "    r = index_queue.get(timeout=MANAGER_STATUS_CHECK_INTERVAL)\n",
            "  File \"/usr/local/lib/python3.6/dist-packages/torchvision/datasets/cifar.py\", line 121, in __getitem__\n",
            "    img = self.transform(img)\n",
            "KeyboardInterrupt\n",
            "  File \"/usr/local/lib/python3.6/dist-packages/torchvision/transforms/transforms.py\", line 49, in __call__\n",
            "    img = t(img)\n",
            "  File \"/usr/local/lib/python3.6/dist-packages/torchvision/transforms/transforms.py\", line 76, in __call__\n",
            "    return F.to_tensor(pic)\n",
            "  File \"/usr/local/lib/python3.6/dist-packages/torchvision/transforms/functional.py\", line 81, in to_tensor\n",
            "    img = img.transpose(0, 1).transpose(0, 2).contiguous()\n",
            "KeyboardInterrupt\n"
          ],
          "name": "stderr"
        },
        {
          "output_type": "error",
          "ename": "KeyboardInterrupt",
          "evalue": "ignored",
          "traceback": [
            "\u001b[0;31m---------------------------------------------------------------------------\u001b[0m",
            "\u001b[0;31mKeyboardInterrupt\u001b[0m                         Traceback (most recent call last)",
            "\u001b[0;32m<ipython-input-26-2097d9c93d1b>\u001b[0m in \u001b[0;36m<module>\u001b[0;34m()\u001b[0m\n\u001b[1;32m      9\u001b[0m     \u001b[0mprint\u001b[0m\u001b[0;34m(\u001b[0m\u001b[0;34m'Epoch'\u001b[0m\u001b[0;34m,\u001b[0m \u001b[0mepoch\u001b[0m\u001b[0;34m)\u001b[0m\u001b[0;34m\u001b[0m\u001b[0;34m\u001b[0m\u001b[0m\n\u001b[1;32m     10\u001b[0m     \u001b[0mtrain_loss\u001b[0m \u001b[0;34m=\u001b[0m \u001b[0;36m0.0\u001b[0m\u001b[0;34m\u001b[0m\u001b[0;34m\u001b[0m\u001b[0m\n\u001b[0;32m---> 11\u001b[0;31m     \u001b[0;32mfor\u001b[0m \u001b[0mi\u001b[0m\u001b[0;34m,\u001b[0m \u001b[0mdata\u001b[0m \u001b[0;32min\u001b[0m \u001b[0menumerate\u001b[0m\u001b[0;34m(\u001b[0m\u001b[0mtrainloader\u001b[0m\u001b[0;34m,\u001b[0m \u001b[0;36m0\u001b[0m\u001b[0;34m)\u001b[0m\u001b[0;34m:\u001b[0m\u001b[0;34m\u001b[0m\u001b[0;34m\u001b[0m\u001b[0m\n\u001b[0m\u001b[1;32m     12\u001b[0m         \u001b[0;31m# get the inputs\u001b[0m\u001b[0;34m\u001b[0m\u001b[0;34m\u001b[0m\u001b[0;34m\u001b[0m\u001b[0m\n\u001b[1;32m     13\u001b[0m         \u001b[0minputs\u001b[0m\u001b[0;34m,\u001b[0m \u001b[0mlabels\u001b[0m \u001b[0;34m=\u001b[0m \u001b[0mdata\u001b[0m\u001b[0;34m\u001b[0m\u001b[0;34m\u001b[0m\u001b[0m\n",
            "\u001b[0;32m/usr/local/lib/python3.6/dist-packages/torch/utils/data/dataloader.py\u001b[0m in \u001b[0;36m__next__\u001b[0;34m(self)\u001b[0m\n\u001b[1;32m    328\u001b[0m         \u001b[0;32mwhile\u001b[0m \u001b[0;32mTrue\u001b[0m\u001b[0;34m:\u001b[0m\u001b[0;34m\u001b[0m\u001b[0;34m\u001b[0m\u001b[0m\n\u001b[1;32m    329\u001b[0m             \u001b[0;32massert\u001b[0m \u001b[0;34m(\u001b[0m\u001b[0;32mnot\u001b[0m \u001b[0mself\u001b[0m\u001b[0;34m.\u001b[0m\u001b[0mshutdown\u001b[0m \u001b[0;32mand\u001b[0m \u001b[0mself\u001b[0m\u001b[0;34m.\u001b[0m\u001b[0mbatches_outstanding\u001b[0m \u001b[0;34m>\u001b[0m \u001b[0;36m0\u001b[0m\u001b[0;34m)\u001b[0m\u001b[0;34m\u001b[0m\u001b[0;34m\u001b[0m\u001b[0m\n\u001b[0;32m--> 330\u001b[0;31m             \u001b[0midx\u001b[0m\u001b[0;34m,\u001b[0m \u001b[0mbatch\u001b[0m \u001b[0;34m=\u001b[0m \u001b[0mself\u001b[0m\u001b[0;34m.\u001b[0m\u001b[0m_get_batch\u001b[0m\u001b[0;34m(\u001b[0m\u001b[0;34m)\u001b[0m\u001b[0;34m\u001b[0m\u001b[0;34m\u001b[0m\u001b[0m\n\u001b[0m\u001b[1;32m    331\u001b[0m             \u001b[0mself\u001b[0m\u001b[0;34m.\u001b[0m\u001b[0mbatches_outstanding\u001b[0m \u001b[0;34m-=\u001b[0m \u001b[0;36m1\u001b[0m\u001b[0;34m\u001b[0m\u001b[0;34m\u001b[0m\u001b[0m\n\u001b[1;32m    332\u001b[0m             \u001b[0;32mif\u001b[0m \u001b[0midx\u001b[0m \u001b[0;34m!=\u001b[0m \u001b[0mself\u001b[0m\u001b[0;34m.\u001b[0m\u001b[0mrcvd_idx\u001b[0m\u001b[0;34m:\u001b[0m\u001b[0;34m\u001b[0m\u001b[0;34m\u001b[0m\u001b[0m\n",
            "\u001b[0;32m/usr/local/lib/python3.6/dist-packages/torch/utils/data/dataloader.py\u001b[0m in \u001b[0;36m_get_batch\u001b[0;34m(self)\u001b[0m\n\u001b[1;32m    307\u001b[0m                 \u001b[0;32mraise\u001b[0m \u001b[0mRuntimeError\u001b[0m\u001b[0;34m(\u001b[0m\u001b[0;34m'DataLoader timed out after {} seconds'\u001b[0m\u001b[0;34m.\u001b[0m\u001b[0mformat\u001b[0m\u001b[0;34m(\u001b[0m\u001b[0mself\u001b[0m\u001b[0;34m.\u001b[0m\u001b[0mtimeout\u001b[0m\u001b[0;34m)\u001b[0m\u001b[0;34m)\u001b[0m\u001b[0;34m\u001b[0m\u001b[0;34m\u001b[0m\u001b[0m\n\u001b[1;32m    308\u001b[0m         \u001b[0;32melse\u001b[0m\u001b[0;34m:\u001b[0m\u001b[0;34m\u001b[0m\u001b[0;34m\u001b[0m\u001b[0m\n\u001b[0;32m--> 309\u001b[0;31m             \u001b[0;32mreturn\u001b[0m \u001b[0mself\u001b[0m\u001b[0;34m.\u001b[0m\u001b[0mdata_queue\u001b[0m\u001b[0;34m.\u001b[0m\u001b[0mget\u001b[0m\u001b[0;34m(\u001b[0m\u001b[0;34m)\u001b[0m\u001b[0;34m\u001b[0m\u001b[0;34m\u001b[0m\u001b[0m\n\u001b[0m\u001b[1;32m    310\u001b[0m \u001b[0;34m\u001b[0m\u001b[0m\n\u001b[1;32m    311\u001b[0m     \u001b[0;32mdef\u001b[0m \u001b[0m__next__\u001b[0m\u001b[0;34m(\u001b[0m\u001b[0mself\u001b[0m\u001b[0;34m)\u001b[0m\u001b[0;34m:\u001b[0m\u001b[0;34m\u001b[0m\u001b[0;34m\u001b[0m\u001b[0m\n",
            "\u001b[0;32m/usr/lib/python3.6/multiprocessing/queues.py\u001b[0m in \u001b[0;36mget\u001b[0;34m(self)\u001b[0m\n\u001b[1;32m    335\u001b[0m             \u001b[0mres\u001b[0m \u001b[0;34m=\u001b[0m \u001b[0mself\u001b[0m\u001b[0;34m.\u001b[0m\u001b[0m_reader\u001b[0m\u001b[0;34m.\u001b[0m\u001b[0mrecv_bytes\u001b[0m\u001b[0;34m(\u001b[0m\u001b[0;34m)\u001b[0m\u001b[0;34m\u001b[0m\u001b[0;34m\u001b[0m\u001b[0m\n\u001b[1;32m    336\u001b[0m         \u001b[0;31m# unserialize the data after having released the lock\u001b[0m\u001b[0;34m\u001b[0m\u001b[0;34m\u001b[0m\u001b[0;34m\u001b[0m\u001b[0m\n\u001b[0;32m--> 337\u001b[0;31m         \u001b[0;32mreturn\u001b[0m \u001b[0m_ForkingPickler\u001b[0m\u001b[0;34m.\u001b[0m\u001b[0mloads\u001b[0m\u001b[0;34m(\u001b[0m\u001b[0mres\u001b[0m\u001b[0;34m)\u001b[0m\u001b[0;34m\u001b[0m\u001b[0;34m\u001b[0m\u001b[0m\n\u001b[0m\u001b[1;32m    338\u001b[0m \u001b[0;34m\u001b[0m\u001b[0m\n\u001b[1;32m    339\u001b[0m     \u001b[0;32mdef\u001b[0m \u001b[0mput\u001b[0m\u001b[0;34m(\u001b[0m\u001b[0mself\u001b[0m\u001b[0;34m,\u001b[0m \u001b[0mobj\u001b[0m\u001b[0;34m)\u001b[0m\u001b[0;34m:\u001b[0m\u001b[0;34m\u001b[0m\u001b[0;34m\u001b[0m\u001b[0m\n",
            "\u001b[0;32m/usr/local/lib/python3.6/dist-packages/torch/multiprocessing/reductions.py\u001b[0m in \u001b[0;36mrebuild_storage_fd\u001b[0;34m(cls, df, size)\u001b[0m\n\u001b[1;32m    149\u001b[0m         \u001b[0mfd\u001b[0m \u001b[0;34m=\u001b[0m \u001b[0mmultiprocessing\u001b[0m\u001b[0;34m.\u001b[0m\u001b[0mreduction\u001b[0m\u001b[0;34m.\u001b[0m\u001b[0mrebuild_handle\u001b[0m\u001b[0;34m(\u001b[0m\u001b[0mdf\u001b[0m\u001b[0;34m)\u001b[0m\u001b[0;34m\u001b[0m\u001b[0;34m\u001b[0m\u001b[0m\n\u001b[1;32m    150\u001b[0m     \u001b[0;32melse\u001b[0m\u001b[0;34m:\u001b[0m\u001b[0;34m\u001b[0m\u001b[0;34m\u001b[0m\u001b[0m\n\u001b[0;32m--> 151\u001b[0;31m         \u001b[0mfd\u001b[0m \u001b[0;34m=\u001b[0m \u001b[0mdf\u001b[0m\u001b[0;34m.\u001b[0m\u001b[0mdetach\u001b[0m\u001b[0;34m(\u001b[0m\u001b[0;34m)\u001b[0m\u001b[0;34m\u001b[0m\u001b[0;34m\u001b[0m\u001b[0m\n\u001b[0m\u001b[1;32m    152\u001b[0m     \u001b[0;32mtry\u001b[0m\u001b[0;34m:\u001b[0m\u001b[0;34m\u001b[0m\u001b[0;34m\u001b[0m\u001b[0m\n\u001b[1;32m    153\u001b[0m         \u001b[0mstorage\u001b[0m \u001b[0;34m=\u001b[0m \u001b[0mstorage_from_cache\u001b[0m\u001b[0;34m(\u001b[0m\u001b[0mcls\u001b[0m\u001b[0;34m,\u001b[0m \u001b[0mfd_id\u001b[0m\u001b[0;34m(\u001b[0m\u001b[0mfd\u001b[0m\u001b[0;34m)\u001b[0m\u001b[0;34m)\u001b[0m\u001b[0;34m\u001b[0m\u001b[0;34m\u001b[0m\u001b[0m\n",
            "\u001b[0;32m/usr/lib/python3.6/multiprocessing/resource_sharer.py\u001b[0m in \u001b[0;36mdetach\u001b[0;34m(self)\u001b[0m\n\u001b[1;32m     55\u001b[0m         \u001b[0;32mdef\u001b[0m \u001b[0mdetach\u001b[0m\u001b[0;34m(\u001b[0m\u001b[0mself\u001b[0m\u001b[0;34m)\u001b[0m\u001b[0;34m:\u001b[0m\u001b[0;34m\u001b[0m\u001b[0;34m\u001b[0m\u001b[0m\n\u001b[1;32m     56\u001b[0m             \u001b[0;34m'''Get the fd.  This should only be called once.'''\u001b[0m\u001b[0;34m\u001b[0m\u001b[0;34m\u001b[0m\u001b[0m\n\u001b[0;32m---> 57\u001b[0;31m             \u001b[0;32mwith\u001b[0m \u001b[0m_resource_sharer\u001b[0m\u001b[0;34m.\u001b[0m\u001b[0mget_connection\u001b[0m\u001b[0;34m(\u001b[0m\u001b[0mself\u001b[0m\u001b[0;34m.\u001b[0m\u001b[0m_id\u001b[0m\u001b[0;34m)\u001b[0m \u001b[0;32mas\u001b[0m \u001b[0mconn\u001b[0m\u001b[0;34m:\u001b[0m\u001b[0;34m\u001b[0m\u001b[0;34m\u001b[0m\u001b[0m\n\u001b[0m\u001b[1;32m     58\u001b[0m                 \u001b[0;32mreturn\u001b[0m \u001b[0mreduction\u001b[0m\u001b[0;34m.\u001b[0m\u001b[0mrecv_handle\u001b[0m\u001b[0;34m(\u001b[0m\u001b[0mconn\u001b[0m\u001b[0;34m)\u001b[0m\u001b[0;34m\u001b[0m\u001b[0;34m\u001b[0m\u001b[0m\n\u001b[1;32m     59\u001b[0m \u001b[0;34m\u001b[0m\u001b[0m\n",
            "\u001b[0;32m/usr/lib/python3.6/multiprocessing/resource_sharer.py\u001b[0m in \u001b[0;36mget_connection\u001b[0;34m(ident)\u001b[0m\n\u001b[1;32m     85\u001b[0m         \u001b[0;32mfrom\u001b[0m \u001b[0;34m.\u001b[0m\u001b[0mconnection\u001b[0m \u001b[0;32mimport\u001b[0m \u001b[0mClient\u001b[0m\u001b[0;34m\u001b[0m\u001b[0;34m\u001b[0m\u001b[0m\n\u001b[1;32m     86\u001b[0m         \u001b[0maddress\u001b[0m\u001b[0;34m,\u001b[0m \u001b[0mkey\u001b[0m \u001b[0;34m=\u001b[0m \u001b[0mident\u001b[0m\u001b[0;34m\u001b[0m\u001b[0;34m\u001b[0m\u001b[0m\n\u001b[0;32m---> 87\u001b[0;31m         \u001b[0mc\u001b[0m \u001b[0;34m=\u001b[0m \u001b[0mClient\u001b[0m\u001b[0;34m(\u001b[0m\u001b[0maddress\u001b[0m\u001b[0;34m,\u001b[0m \u001b[0mauthkey\u001b[0m\u001b[0;34m=\u001b[0m\u001b[0mprocess\u001b[0m\u001b[0;34m.\u001b[0m\u001b[0mcurrent_process\u001b[0m\u001b[0;34m(\u001b[0m\u001b[0;34m)\u001b[0m\u001b[0;34m.\u001b[0m\u001b[0mauthkey\u001b[0m\u001b[0;34m)\u001b[0m\u001b[0;34m\u001b[0m\u001b[0;34m\u001b[0m\u001b[0m\n\u001b[0m\u001b[1;32m     88\u001b[0m         \u001b[0mc\u001b[0m\u001b[0;34m.\u001b[0m\u001b[0msend\u001b[0m\u001b[0;34m(\u001b[0m\u001b[0;34m(\u001b[0m\u001b[0mkey\u001b[0m\u001b[0;34m,\u001b[0m \u001b[0mos\u001b[0m\u001b[0;34m.\u001b[0m\u001b[0mgetpid\u001b[0m\u001b[0;34m(\u001b[0m\u001b[0;34m)\u001b[0m\u001b[0;34m)\u001b[0m\u001b[0;34m)\u001b[0m\u001b[0;34m\u001b[0m\u001b[0;34m\u001b[0m\u001b[0m\n\u001b[1;32m     89\u001b[0m         \u001b[0;32mreturn\u001b[0m \u001b[0mc\u001b[0m\u001b[0;34m\u001b[0m\u001b[0;34m\u001b[0m\u001b[0m\n",
            "\u001b[0;32m/usr/lib/python3.6/multiprocessing/connection.py\u001b[0m in \u001b[0;36mClient\u001b[0;34m(address, family, authkey)\u001b[0m\n\u001b[1;32m    491\u001b[0m \u001b[0;34m\u001b[0m\u001b[0m\n\u001b[1;32m    492\u001b[0m     \u001b[0;32mif\u001b[0m \u001b[0mauthkey\u001b[0m \u001b[0;32mis\u001b[0m \u001b[0;32mnot\u001b[0m \u001b[0;32mNone\u001b[0m\u001b[0;34m:\u001b[0m\u001b[0;34m\u001b[0m\u001b[0;34m\u001b[0m\u001b[0m\n\u001b[0;32m--> 493\u001b[0;31m         \u001b[0manswer_challenge\u001b[0m\u001b[0;34m(\u001b[0m\u001b[0mc\u001b[0m\u001b[0;34m,\u001b[0m \u001b[0mauthkey\u001b[0m\u001b[0;34m)\u001b[0m\u001b[0;34m\u001b[0m\u001b[0;34m\u001b[0m\u001b[0m\n\u001b[0m\u001b[1;32m    494\u001b[0m         \u001b[0mdeliver_challenge\u001b[0m\u001b[0;34m(\u001b[0m\u001b[0mc\u001b[0m\u001b[0;34m,\u001b[0m \u001b[0mauthkey\u001b[0m\u001b[0;34m)\u001b[0m\u001b[0;34m\u001b[0m\u001b[0;34m\u001b[0m\u001b[0m\n\u001b[1;32m    495\u001b[0m \u001b[0;34m\u001b[0m\u001b[0m\n",
            "\u001b[0;32m/usr/lib/python3.6/multiprocessing/connection.py\u001b[0m in \u001b[0;36manswer_challenge\u001b[0;34m(connection, authkey)\u001b[0m\n\u001b[1;32m    730\u001b[0m     \u001b[0;32mimport\u001b[0m \u001b[0mhmac\u001b[0m\u001b[0;34m\u001b[0m\u001b[0;34m\u001b[0m\u001b[0m\n\u001b[1;32m    731\u001b[0m     \u001b[0;32massert\u001b[0m \u001b[0misinstance\u001b[0m\u001b[0;34m(\u001b[0m\u001b[0mauthkey\u001b[0m\u001b[0;34m,\u001b[0m \u001b[0mbytes\u001b[0m\u001b[0;34m)\u001b[0m\u001b[0;34m\u001b[0m\u001b[0;34m\u001b[0m\u001b[0m\n\u001b[0;32m--> 732\u001b[0;31m     \u001b[0mmessage\u001b[0m \u001b[0;34m=\u001b[0m \u001b[0mconnection\u001b[0m\u001b[0;34m.\u001b[0m\u001b[0mrecv_bytes\u001b[0m\u001b[0;34m(\u001b[0m\u001b[0;36m256\u001b[0m\u001b[0;34m)\u001b[0m         \u001b[0;31m# reject large message\u001b[0m\u001b[0;34m\u001b[0m\u001b[0;34m\u001b[0m\u001b[0m\n\u001b[0m\u001b[1;32m    733\u001b[0m     \u001b[0;32massert\u001b[0m \u001b[0mmessage\u001b[0m\u001b[0;34m[\u001b[0m\u001b[0;34m:\u001b[0m\u001b[0mlen\u001b[0m\u001b[0;34m(\u001b[0m\u001b[0mCHALLENGE\u001b[0m\u001b[0;34m)\u001b[0m\u001b[0;34m]\u001b[0m \u001b[0;34m==\u001b[0m \u001b[0mCHALLENGE\u001b[0m\u001b[0;34m,\u001b[0m \u001b[0;34m'message = %r'\u001b[0m \u001b[0;34m%\u001b[0m \u001b[0mmessage\u001b[0m\u001b[0;34m\u001b[0m\u001b[0;34m\u001b[0m\u001b[0m\n\u001b[1;32m    734\u001b[0m     \u001b[0mmessage\u001b[0m \u001b[0;34m=\u001b[0m \u001b[0mmessage\u001b[0m\u001b[0;34m[\u001b[0m\u001b[0mlen\u001b[0m\u001b[0;34m(\u001b[0m\u001b[0mCHALLENGE\u001b[0m\u001b[0;34m)\u001b[0m\u001b[0;34m:\u001b[0m\u001b[0;34m]\u001b[0m\u001b[0;34m\u001b[0m\u001b[0;34m\u001b[0m\u001b[0m\n",
            "\u001b[0;32m/usr/lib/python3.6/multiprocessing/connection.py\u001b[0m in \u001b[0;36mrecv_bytes\u001b[0;34m(self, maxlength)\u001b[0m\n\u001b[1;32m    214\u001b[0m         \u001b[0;32mif\u001b[0m \u001b[0mmaxlength\u001b[0m \u001b[0;32mis\u001b[0m \u001b[0;32mnot\u001b[0m \u001b[0;32mNone\u001b[0m \u001b[0;32mand\u001b[0m \u001b[0mmaxlength\u001b[0m \u001b[0;34m<\u001b[0m \u001b[0;36m0\u001b[0m\u001b[0;34m:\u001b[0m\u001b[0;34m\u001b[0m\u001b[0;34m\u001b[0m\u001b[0m\n\u001b[1;32m    215\u001b[0m             \u001b[0;32mraise\u001b[0m \u001b[0mValueError\u001b[0m\u001b[0;34m(\u001b[0m\u001b[0;34m\"negative maxlength\"\u001b[0m\u001b[0;34m)\u001b[0m\u001b[0;34m\u001b[0m\u001b[0;34m\u001b[0m\u001b[0m\n\u001b[0;32m--> 216\u001b[0;31m         \u001b[0mbuf\u001b[0m \u001b[0;34m=\u001b[0m \u001b[0mself\u001b[0m\u001b[0;34m.\u001b[0m\u001b[0m_recv_bytes\u001b[0m\u001b[0;34m(\u001b[0m\u001b[0mmaxlength\u001b[0m\u001b[0;34m)\u001b[0m\u001b[0;34m\u001b[0m\u001b[0;34m\u001b[0m\u001b[0m\n\u001b[0m\u001b[1;32m    217\u001b[0m         \u001b[0;32mif\u001b[0m \u001b[0mbuf\u001b[0m \u001b[0;32mis\u001b[0m \u001b[0;32mNone\u001b[0m\u001b[0;34m:\u001b[0m\u001b[0;34m\u001b[0m\u001b[0;34m\u001b[0m\u001b[0m\n\u001b[1;32m    218\u001b[0m             \u001b[0mself\u001b[0m\u001b[0;34m.\u001b[0m\u001b[0m_bad_message_length\u001b[0m\u001b[0;34m(\u001b[0m\u001b[0;34m)\u001b[0m\u001b[0;34m\u001b[0m\u001b[0;34m\u001b[0m\u001b[0m\n",
            "\u001b[0;32m/usr/lib/python3.6/multiprocessing/connection.py\u001b[0m in \u001b[0;36m_recv_bytes\u001b[0;34m(self, maxsize)\u001b[0m\n\u001b[1;32m    405\u001b[0m \u001b[0;34m\u001b[0m\u001b[0m\n\u001b[1;32m    406\u001b[0m     \u001b[0;32mdef\u001b[0m \u001b[0m_recv_bytes\u001b[0m\u001b[0;34m(\u001b[0m\u001b[0mself\u001b[0m\u001b[0;34m,\u001b[0m \u001b[0mmaxsize\u001b[0m\u001b[0;34m=\u001b[0m\u001b[0;32mNone\u001b[0m\u001b[0;34m)\u001b[0m\u001b[0;34m:\u001b[0m\u001b[0;34m\u001b[0m\u001b[0;34m\u001b[0m\u001b[0m\n\u001b[0;32m--> 407\u001b[0;31m         \u001b[0mbuf\u001b[0m \u001b[0;34m=\u001b[0m \u001b[0mself\u001b[0m\u001b[0;34m.\u001b[0m\u001b[0m_recv\u001b[0m\u001b[0;34m(\u001b[0m\u001b[0;36m4\u001b[0m\u001b[0;34m)\u001b[0m\u001b[0;34m\u001b[0m\u001b[0;34m\u001b[0m\u001b[0m\n\u001b[0m\u001b[1;32m    408\u001b[0m         \u001b[0msize\u001b[0m\u001b[0;34m,\u001b[0m \u001b[0;34m=\u001b[0m \u001b[0mstruct\u001b[0m\u001b[0;34m.\u001b[0m\u001b[0munpack\u001b[0m\u001b[0;34m(\u001b[0m\u001b[0;34m\"!i\"\u001b[0m\u001b[0;34m,\u001b[0m \u001b[0mbuf\u001b[0m\u001b[0;34m.\u001b[0m\u001b[0mgetvalue\u001b[0m\u001b[0;34m(\u001b[0m\u001b[0;34m)\u001b[0m\u001b[0;34m)\u001b[0m\u001b[0;34m\u001b[0m\u001b[0;34m\u001b[0m\u001b[0m\n\u001b[1;32m    409\u001b[0m         \u001b[0;32mif\u001b[0m \u001b[0mmaxsize\u001b[0m \u001b[0;32mis\u001b[0m \u001b[0;32mnot\u001b[0m \u001b[0;32mNone\u001b[0m \u001b[0;32mand\u001b[0m \u001b[0msize\u001b[0m \u001b[0;34m>\u001b[0m \u001b[0mmaxsize\u001b[0m\u001b[0;34m:\u001b[0m\u001b[0;34m\u001b[0m\u001b[0;34m\u001b[0m\u001b[0m\n",
            "\u001b[0;32m/usr/lib/python3.6/multiprocessing/connection.py\u001b[0m in \u001b[0;36m_recv\u001b[0;34m(self, size, read)\u001b[0m\n\u001b[1;32m    377\u001b[0m         \u001b[0mremaining\u001b[0m \u001b[0;34m=\u001b[0m \u001b[0msize\u001b[0m\u001b[0;34m\u001b[0m\u001b[0;34m\u001b[0m\u001b[0m\n\u001b[1;32m    378\u001b[0m         \u001b[0;32mwhile\u001b[0m \u001b[0mremaining\u001b[0m \u001b[0;34m>\u001b[0m \u001b[0;36m0\u001b[0m\u001b[0;34m:\u001b[0m\u001b[0;34m\u001b[0m\u001b[0;34m\u001b[0m\u001b[0m\n\u001b[0;32m--> 379\u001b[0;31m             \u001b[0mchunk\u001b[0m \u001b[0;34m=\u001b[0m \u001b[0mread\u001b[0m\u001b[0;34m(\u001b[0m\u001b[0mhandle\u001b[0m\u001b[0;34m,\u001b[0m \u001b[0mremaining\u001b[0m\u001b[0;34m)\u001b[0m\u001b[0;34m\u001b[0m\u001b[0;34m\u001b[0m\u001b[0m\n\u001b[0m\u001b[1;32m    380\u001b[0m             \u001b[0mn\u001b[0m \u001b[0;34m=\u001b[0m \u001b[0mlen\u001b[0m\u001b[0;34m(\u001b[0m\u001b[0mchunk\u001b[0m\u001b[0;34m)\u001b[0m\u001b[0;34m\u001b[0m\u001b[0;34m\u001b[0m\u001b[0m\n\u001b[1;32m    381\u001b[0m             \u001b[0;32mif\u001b[0m \u001b[0mn\u001b[0m \u001b[0;34m==\u001b[0m \u001b[0;36m0\u001b[0m\u001b[0;34m:\u001b[0m\u001b[0;34m\u001b[0m\u001b[0;34m\u001b[0m\u001b[0m\n",
            "\u001b[0;31mKeyboardInterrupt\u001b[0m: "
          ]
        }
      ]
    },
    {
      "metadata": {
        "id": "OE_BLj_jUKLX",
        "colab_type": "code",
        "outputId": "bcca0052-05fe-493f-ae1e-02dea9d92e90",
        "colab": {
          "base_uri": "https://localhost:8080/",
          "height": 265
        }
      },
      "cell_type": "code",
      "source": [
        "import matplotlib.pyplot as plt\n",
        "plt.figure()\n",
        "plt.plot(train_losses, label='Train loss')\n",
        "plt.plot(dev_losses, label='Dev loss')\n",
        "plt.legend()\n",
        "plt.show()"
      ],
      "execution_count": 0,
      "outputs": [
        {
          "output_type": "display_data",
          "data": {
            "image/png": "[encoded data removed]",
            "text/plain": [
              "<matplotlib.figure.Figure at 0x7fe70c7afc18>"
            ]
          },
          "metadata": {
            "tags": []
          }
        }
      ]
    },
    {
      "metadata": {
        "id": "N4RmMZmAyVrZ",
        "colab_type": "code",
        "colab": {}
      },
      "cell_type": "code",
      "source": [
        ""
      ],
      "execution_count": 0,
      "outputs": []
    },
    {
      "metadata": {
        "id": "MoIgNUqJyZNp",
        "colab_type": "code",
        "colab": {}
      },
      "cell_type": "code",
      "source": [
        ""
      ],
      "execution_count": 0,
      "outputs": []
    },
    {
      "metadata": {
        "id": "y5pL4NgPatLh",
        "colab_type": "text"
      },
      "cell_type": "markdown",
      "source": [
        "Find epoch with minimum dev loss"
      ]
    },
    {
      "metadata": {
        "id": "4WbzmwfIayi9",
        "colab_type": "code",
        "colab": {}
      },
      "cell_type": "code",
      "source": [
        "best_epoch = np.argmin(dev_losses)"
      ],
      "execution_count": 0,
      "outputs": []
    },
    {
      "metadata": {
        "id": "cNLMhj7vbBYs",
        "colab_type": "text"
      },
      "cell_type": "markdown",
      "source": [
        "Load model which resulted in minimum loss"
      ]
    },
    {
      "metadata": {
        "id": "dvtFHJypbMGP",
        "colab_type": "code",
        "outputId": "6b305de2-2eaa-4fe0-ba2a-54e41c435fcc",
        "colab": {
          "base_uri": "https://localhost:8080/",
          "height": 153
        }
      },
      "cell_type": "code",
      "source": [
        "best_net = Net()\n",
        "best_net.load_state_dict(torch.load('net_checkpoint_{}.pth'.format(best_epoch)))\n",
        "best_net.eval()\n",
        "best_net.to(device)"
      ],
      "execution_count": 0,
      "outputs": [
        {
          "output_type": "execute_result",
          "data": {
            "text/plain": [
              "Net(\n",
              "  (conv1): Conv2d(3, 6, kernel_size=(5, 5), stride=(1, 1))\n",
              "  (pool): MaxPool2d(kernel_size=2, stride=2, padding=0, dilation=1, ceil_mode=False)\n",
              "  (conv2): Conv2d(6, 16, kernel_size=(5, 5), stride=(1, 1))\n",
              "  (fc1): Linear(in_features=400, out_features=120, bias=True)\n",
              "  (fc2): Linear(in_features=120, out_features=84, bias=True)\n",
              "  (fc3): Linear(in_features=84, out_features=10, bias=True)\n",
              ")"
            ]
          },
          "metadata": {
            "tags": []
          },
          "execution_count": 59
        }
      ]
    },
    {
      "metadata": {
        "id": "mRdWOV7MFG-u",
        "colab_type": "text"
      },
      "cell_type": "markdown",
      "source": [
        "## 5. Test the network on the test data\n"
      ]
    },
    {
      "metadata": {
        "id": "VN38q_ISFG-v",
        "colab_type": "code",
        "outputId": "0c34f125-af2b-48b5-edec-9c8c1d108e5f",
        "colab": {
          "base_uri": "https://localhost:8080/",
          "height": 34
        }
      },
      "cell_type": "code",
      "source": [
        "# Calculate dev loss after every epoch\n",
        "with torch.no_grad():\n",
        "    test_loss = 0.0\n",
        "    for data in testloader:\n",
        "        images, labels = data\n",
        "        images, labels = images.to(device), labels.to(device)\n",
        "        outputs = best_net(images)\n",
        "        loss = criterion(outputs, labels)\n",
        "        test_loss += loss.item()\n",
        "    avg_test_loss = test_loss/len(testloader)\n",
        "    print('  average test mini-batch loss: {:.6f}'.format(avg_test_loss))"
      ],
      "execution_count": 0,
      "outputs": [
        {
          "output_type": "stream",
          "text": [
            "  average test mini-batch loss: 1.005007\n"
          ],
          "name": "stdout"
        }
      ]
    },
    {
      "metadata": {
        "id": "KH4RKhpEynqV",
        "colab_type": "code",
        "outputId": "7e321568-07fc-490e-fbed-720b21296036",
        "colab": {
          "base_uri": "https://localhost:8080/",
          "height": 265
        }
      },
      "cell_type": "code",
      "source": [
        "import matplotlib.pyplot as plt\n",
        "plt.figure()\n",
        "plt.plot(train_losses, label='Train loss')\n",
        "plt.plot(dev_losses, label='Dev loss')\n",
        "plt.scatter(best_epoch, avg_test_loss, marker='x', color='r', label='Test loss at best_epoch')\n",
        "plt.legend()\n",
        "plt.show()\n"
      ],
      "execution_count": 0,
      "outputs": [
        {
          "output_type": "display_data",
          "data": {
            "image/png": "[encoded data removed]",
            "text/plain": [
              "<matplotlib.figure.Figure at 0x7fe70c8c3a58>"
            ]
          },
          "metadata": {
            "tags": []
          }
        }
      ]
    },
    {
      "metadata": {
        "id": "Njy66KRSUfnq",
        "colab_type": "text"
      },
      "cell_type": "markdown",
      "source": [
        "##6. Try another model"
      ]
    },
    {
      "metadata": {
        "id": "q1poRHFbUfv8",
        "colab_type": "code",
        "colab": {
          "base_uri": "https://localhost:8080/",
          "height": 170
        },
        "outputId": "b1d6abfe-325a-4f91-e20b-9b1e0097ec12"
      },
      "cell_type": "code",
      "source": [
        "import torch.nn as nn\n",
        "import torch.nn.functional as F\n",
        "\n",
        "class Net2(nn.Module):\n",
        "    def __init__(self):\n",
        "        super(Net2, self).__init__()\n",
        "        self.conv1 = nn.Conv2d(3, 6, 5)\n",
        "        self.pool = nn.MaxPool2d(2, 2)\n",
        "        self.conv2 = nn.Conv2d(6, 16, 5)\n",
        "        self.fc1 = nn.Linear(16 * 5 * 5, 120)\n",
        "        self.dropout1 = nn.Dropout(0.2)\n",
        "        self.fc2 = nn.Linear(120, 84)\n",
        "        self.fc3 = nn.Linear(84, 10)\n",
        "\n",
        "    def forward(self, x):\n",
        "        x = self.pool(F.relu(self.conv1(x)))\n",
        "        x = self.pool(F.relu(self.conv2(x)))\n",
        "        x = x.view(-1, 16 * 5 * 5)\n",
        "        x = F.relu(self.fc1(x))\n",
        "        x = self.dropout1(x)\n",
        "        x = F.relu(self.fc2(x))\n",
        "        x = self.fc3(x)\n",
        "        return x\n",
        "\n",
        "net2 = Net2()\n",
        "net2.to(device)"
      ],
      "execution_count": 21,
      "outputs": [
        {
          "output_type": "execute_result",
          "data": {
            "text/plain": [
              "Net2(\n",
              "  (conv1): Conv2d(3, 6, kernel_size=(5, 5), stride=(1, 1))\n",
              "  (pool): MaxPool2d(kernel_size=2, stride=2, padding=0, dilation=1, ceil_mode=False)\n",
              "  (conv2): Conv2d(6, 16, kernel_size=(5, 5), stride=(1, 1))\n",
              "  (fc1): Linear(in_features=400, out_features=120, bias=True)\n",
              "  (dropout1): Dropout(p=0.2)\n",
              "  (fc2): Linear(in_features=120, out_features=84, bias=True)\n",
              "  (fc3): Linear(in_features=84, out_features=10, bias=True)\n",
              ")"
            ]
          },
          "metadata": {
            "tags": []
          },
          "execution_count": 21
        }
      ]
    },
    {
      "metadata": {
        "id": "8VpaK7WRVm3w",
        "colab_type": "code",
        "colab": {}
      },
      "cell_type": "code",
      "source": [
        "criterion = nn.CrossEntropyLoss()\n",
        "optimizer = optim.SGD(net2.parameters(), lr=0.001, momentum=0.9)"
      ],
      "execution_count": 0,
      "outputs": []
    },
    {
      "metadata": {
        "id": "xLklcTBeVVJr",
        "colab_type": "code",
        "colab": {
          "base_uri": "https://localhost:8080/",
          "height": 3537
        },
        "outputId": "31784f50-6b8b-42b8-fae5-cd3c2a1e7e86"
      },
      "cell_type": "code",
      "source": [
        "# Overfit the data\n",
        "num_epochs = 50\n",
        "\n",
        "# Used for tracking loss and plotting later\n",
        "train_losses2 = []\n",
        "dev_losses2 = []\n",
        "\n",
        "print('Training...')\n",
        "for epoch in range(num_epochs):  # loop over the dataset multiple times\n",
        "    print('Epoch', epoch)\n",
        "    train_loss = 0.0   \n",
        "    for i, data in enumerate(trainloader, 0):\n",
        "        # get the inputs\n",
        "        inputs, labels = data\n",
        "      \n",
        "        # Send the inputs to GPU if available\n",
        "        inputs, labels = inputs.to(device), labels.to(device)\n",
        "\n",
        "        # zero the parameter gradients\n",
        "        optimizer.zero_grad()\n",
        "\n",
        "        # forward + backward + optimize\n",
        "        outputs = net2(inputs)\n",
        "        loss = criterion(outputs, labels)\n",
        "        loss.backward()\n",
        "        optimizer.step()\n",
        "\n",
        "        # track loss for printing\n",
        "        train_loss += loss.item()\n",
        "       \n",
        "    # print average dev loss\n",
        "    avg_train_loss = train_loss/len(trainloader)\n",
        "    print('  average train mini-batch loss: {:.6f}'.format(avg_train_loss))\n",
        "    train_losses2.append(avg_train_loss)\n",
        "\n",
        "    # Calculate dev loss after every epoch\n",
        "    with torch.no_grad():\n",
        "        dev_loss = 0.0\n",
        "        for data in devloader:\n",
        "            images, labels = data\n",
        "            images, labels = images.to(device), labels.to(device)\n",
        "            outputs = net(images)\n",
        "            loss = criterion(outputs, labels)\n",
        "            dev_loss += loss.item()\n",
        "        avg_dev_loss = dev_loss/len(devloader)\n",
        "        print('  average dev mini-batch loss: {:.6f}'.format(avg_dev_loss))\n",
        "        dev_losses2.append(avg_dev_loss)\n",
        "            \n",
        "    # Save the model so we can restore later\n",
        "    print('  saving model checkpoint')\n",
        "    # See https://pytorch.org/tutorials/beginner/saving_loading_models.html\n",
        "    torch.save(net.state_dict(), 'net_checkpoint_{}.pth'.format(epoch))\n",
        "\n",
        "print('Finished Training')"
      ],
      "execution_count": 23,
      "outputs": [
        {
          "output_type": "stream",
          "text": [
            "Training...\n",
            "Epoch 0\n",
            "  average train mini-batch loss: 2.236963\n",
            "  average dev mini-batch loss: 1.079675\n",
            "  saving model checkpoint\n",
            "Epoch 1\n",
            "  average train mini-batch loss: 1.993666\n",
            "  average dev mini-batch loss: 1.079675\n",
            "  saving model checkpoint\n",
            "Epoch 2\n",
            "  average train mini-batch loss: 1.743533\n",
            "  average dev mini-batch loss: 1.079675\n",
            "  saving model checkpoint\n",
            "Epoch 3\n",
            "  average train mini-batch loss: 1.579948\n",
            "  average dev mini-batch loss: 1.079675\n",
            "  saving model checkpoint\n",
            "Epoch 4\n",
            "  average train mini-batch loss: 1.478930\n",
            "  average dev mini-batch loss: 1.079675\n",
            "  saving model checkpoint\n",
            "Epoch 5\n",
            "  average train mini-batch loss: 1.404619\n",
            "  average dev mini-batch loss: 1.079675\n",
            "  saving model checkpoint\n",
            "Epoch 6\n",
            "  average train mini-batch loss: 1.348995\n",
            "  average dev mini-batch loss: 1.079675\n",
            "  saving model checkpoint\n",
            "Epoch 7\n",
            "  average train mini-batch loss: 1.302143\n",
            "  average dev mini-batch loss: 1.079675\n",
            "  saving model checkpoint\n",
            "Epoch 8\n",
            "  average train mini-batch loss: 1.263755\n",
            "  average dev mini-batch loss: 1.079675\n",
            "  saving model checkpoint\n",
            "Epoch 9\n",
            "  average train mini-batch loss: 1.225232\n",
            "  average dev mini-batch loss: 1.079675\n",
            "  saving model checkpoint\n",
            "Epoch 10\n",
            "  average train mini-batch loss: 1.191171\n",
            "  average dev mini-batch loss: 1.079675\n",
            "  saving model checkpoint\n",
            "Epoch 11\n",
            "  average train mini-batch loss: 1.159661\n",
            "  average dev mini-batch loss: 1.079675\n",
            "  saving model checkpoint\n",
            "Epoch 12\n",
            "  average train mini-batch loss: 1.132016\n",
            "  average dev mini-batch loss: 1.079675\n",
            "  saving model checkpoint\n",
            "Epoch 13\n",
            "  average train mini-batch loss: 1.106269\n",
            "  average dev mini-batch loss: 1.079675\n",
            "  saving model checkpoint\n",
            "Epoch 14\n",
            "  average train mini-batch loss: 1.084377\n",
            "  average dev mini-batch loss: 1.079675\n",
            "  saving model checkpoint\n",
            "Epoch 15\n",
            "  average train mini-batch loss: 1.061964\n",
            "  average dev mini-batch loss: 1.079675\n",
            "  saving model checkpoint\n",
            "Epoch 16\n",
            "  average train mini-batch loss: 1.044704\n",
            "  average dev mini-batch loss: 1.079675\n",
            "  saving model checkpoint\n",
            "Epoch 17\n",
            "  average train mini-batch loss: 1.023966\n",
            "  average dev mini-batch loss: 1.079675\n",
            "  saving model checkpoint\n",
            "Epoch 18\n",
            "  average train mini-batch loss: 1.005140\n",
            "  average dev mini-batch loss: 1.079675\n",
            "  saving model checkpoint\n",
            "Epoch 19\n",
            "  average train mini-batch loss: 0.989311\n",
            "  average dev mini-batch loss: 1.079675\n",
            "  saving model checkpoint\n",
            "Epoch 20\n",
            "  average train mini-batch loss: 0.976949\n",
            "  average dev mini-batch loss: 1.079675\n",
            "  saving model checkpoint\n",
            "Epoch 21\n",
            "  average train mini-batch loss: 0.959733\n",
            "  average dev mini-batch loss: 1.079675\n",
            "  saving model checkpoint\n",
            "Epoch 22\n",
            "  average train mini-batch loss: 0.946795\n",
            "  average dev mini-batch loss: 1.079675\n",
            "  saving model checkpoint\n",
            "Epoch 23\n",
            "  average train mini-batch loss: 0.935762\n",
            "  average dev mini-batch loss: 1.079675\n",
            "  saving model checkpoint\n",
            "Epoch 24\n",
            "  average train mini-batch loss: 0.919513\n",
            "  average dev mini-batch loss: 1.079675\n",
            "  saving model checkpoint\n",
            "Epoch 25\n",
            "  average train mini-batch loss: 0.909136\n",
            "  average dev mini-batch loss: 1.079675\n",
            "  saving model checkpoint\n",
            "Epoch 26\n",
            "  average train mini-batch loss: 0.898153\n",
            "  average dev mini-batch loss: 1.079675\n",
            "  saving model checkpoint\n",
            "Epoch 27\n",
            "  average train mini-batch loss: 0.884540\n",
            "  average dev mini-batch loss: 1.079675\n",
            "  saving model checkpoint\n",
            "Epoch 28\n",
            "  average train mini-batch loss: 0.872129\n",
            "  average dev mini-batch loss: 1.079675\n",
            "  saving model checkpoint\n",
            "Epoch 29\n",
            "  average train mini-batch loss: 0.860432\n",
            "  average dev mini-batch loss: 1.079675\n",
            "  saving model checkpoint\n",
            "Epoch 30\n",
            "  average train mini-batch loss: 0.851043\n",
            "  average dev mini-batch loss: 1.079675\n",
            "  saving model checkpoint\n",
            "Epoch 31\n",
            "  average train mini-batch loss: 0.840955\n",
            "  average dev mini-batch loss: 1.079675\n",
            "  saving model checkpoint\n",
            "Epoch 32\n",
            "  average train mini-batch loss: 0.832732\n",
            "  average dev mini-batch loss: 1.079675\n",
            "  saving model checkpoint\n",
            "Epoch 33\n",
            "  average train mini-batch loss: 0.824268\n",
            "  average dev mini-batch loss: 1.079675\n",
            "  saving model checkpoint\n",
            "Epoch 34\n",
            "  average train mini-batch loss: 0.812827\n",
            "  average dev mini-batch loss: 1.079675\n",
            "  saving model checkpoint\n",
            "Epoch 35\n",
            "  average train mini-batch loss: 0.804485\n",
            "  average dev mini-batch loss: 1.079675\n",
            "  saving model checkpoint\n",
            "Epoch 36\n",
            "  average train mini-batch loss: 0.795991\n",
            "  average dev mini-batch loss: 1.079675\n",
            "  saving model checkpoint\n",
            "Epoch 37\n",
            "  average train mini-batch loss: 0.786878\n",
            "  average dev mini-batch loss: 1.079675\n",
            "  saving model checkpoint\n",
            "Epoch 38\n",
            "  average train mini-batch loss: 0.781239\n",
            "  average dev mini-batch loss: 1.079675\n",
            "  saving model checkpoint\n",
            "Epoch 39\n",
            "  average train mini-batch loss: 0.770145\n",
            "  average dev mini-batch loss: 1.079675\n",
            "  saving model checkpoint\n",
            "Epoch 40\n",
            "  average train mini-batch loss: 0.767358\n",
            "  average dev mini-batch loss: 1.079675\n",
            "  saving model checkpoint\n",
            "Epoch 41\n",
            "  average train mini-batch loss: 0.756645\n",
            "  average dev mini-batch loss: 1.079675\n",
            "  saving model checkpoint\n",
            "Epoch 42\n",
            "  average train mini-batch loss: 0.751826\n",
            "  average dev mini-batch loss: 1.079675\n",
            "  saving model checkpoint\n",
            "Epoch 43\n",
            "  average train mini-batch loss: 0.741939\n",
            "  average dev mini-batch loss: 1.079675\n",
            "  saving model checkpoint\n",
            "Epoch 44\n",
            "  average train mini-batch loss: 0.731600\n",
            "  average dev mini-batch loss: 1.079675\n",
            "  saving model checkpoint\n",
            "Epoch 45\n",
            "  average train mini-batch loss: 0.729325\n",
            "  average dev mini-batch loss: 1.079675\n",
            "  saving model checkpoint\n",
            "Epoch 46\n",
            "  average train mini-batch loss: 0.724031\n",
            "  average dev mini-batch loss: 1.079675\n",
            "  saving model checkpoint\n",
            "Epoch 47\n",
            "  average train mini-batch loss: 0.714650\n",
            "  average dev mini-batch loss: 1.079675\n",
            "  saving model checkpoint\n",
            "Epoch 48\n",
            "  average train mini-batch loss: 0.707668\n",
            "  average dev mini-batch loss: 1.079675\n",
            "  saving model checkpoint\n",
            "Epoch 49\n",
            "  average train mini-batch loss: 0.698183\n",
            "  average dev mini-batch loss: 1.079675\n",
            "  saving model checkpoint\n",
            "Finished Training\n"
          ],
          "name": "stdout"
        }
      ]
    },
    {
      "metadata": {
        "id": "fmI3B7umycOC",
        "colab_type": "code",
        "colab": {
          "base_uri": "https://localhost:8080/",
          "height": 265
        },
        "outputId": "270bdc7e-304f-4a74-a8cd-a4455cfc3165"
      },
      "cell_type": "code",
      "source": [
        "import matplotlib.pyplot as plt\n",
        "plt.figure()\n",
        "plt.plot(train_losses, label='Train loss (net1)')\n",
        "plt.plot(dev_losses, label='Dev loss (net1)')\n",
        "plt.plot(train_losses2, label='Train loss (net2)')\n",
        "plt.plot(dev_losses2, label='Dev loss (net2)')\n",
        "plt.legend()\n",
        "plt.show()"
      ],
      "execution_count": 27,
      "outputs": [
        {
          "output_type": "display_data",
          "data": {
            "image/png": "[encoded data removed]",
            "text/plain": [
              "<matplotlib.figure.Figure at 0x7fd640e46668>"
            ]
          },
          "metadata": {
            "tags": []
          }
        }
      ]
    },
    {
      "metadata": {
        "id": "xn0cVOHeWBT6",
        "colab_type": "code",
        "colab": {}
      },
      "cell_type": "code",
      "source": [
        ""
      ],
      "execution_count": 0,
      "outputs": []
    }
  ]
}