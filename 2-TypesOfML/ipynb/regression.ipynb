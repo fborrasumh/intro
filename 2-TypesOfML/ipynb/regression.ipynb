{
  "nbformat": 4,
  "nbformat_minor": 0,
  "metadata": {
    "colab": {
      "name": "linear_regression.ipynb",
      "version": "0.3.2",
      "provenance": []
    },
    "kernelspec": {
      "display_name": "Python 3",
      "language": "python",
      "name": "python3"
    }
  },
  "cells": [
    {
      "metadata": {
        "id": "UOViz-HL8nbt",
        "colab_type": "text"
      },
      "cell_type": "markdown",
      "source": [
        "This tutorial is from minor modifications to the original which was created by: [Data School](http://www.dataschool.io/)\n",
        "\n",
        "# Linear regression\n",
        "## pandas, seaborn, scikit-learn"
      ]
    },
    {
      "metadata": {
        "id": "FEcBFbLn8nbv",
        "colab_type": "text"
      },
      "cell_type": "markdown",
      "source": [
        "## Agenda\n",
        "\n",
        "- How do I use the **pandas library** to read data into Python?\n",
        "- How do I use the **seaborn library** to visualize data?\n",
        "- What is **linear regression**, and how does it work?\n",
        "- How do I **train and interpret** a linear regression model in scikit-learn?\n",
        "- What are some **evaluation metrics** for regression problems?\n",
        "- How do I choose **which features to include** in my model?"
      ]
    },
    {
      "metadata": {
        "id": "6D1uv3MB8nby",
        "colab_type": "text"
      },
      "cell_type": "markdown",
      "source": [
        "## Reading data using pandas\n",
        "\n",
        "**Pandas:** popular Python library for data exploration, manipulation, and analysis\n",
        "\n",
        "- Anaconda users: pandas is already installed\n",
        "- Other users: [installation instructions](http://pandas.pydata.org/pandas-docs/stable/install.html)"
      ]
    },
    {
      "metadata": {
        "id": "aRMDbQh_8nb1",
        "colab_type": "code",
        "colab": {}
      },
      "cell_type": "code",
      "source": [
        "# conventional way to import pandas\n",
        "import pandas as pd"
      ],
      "execution_count": 0,
      "outputs": []
    },
    {
      "metadata": {
        "id": "pDgNyabw8nb-",
        "colab_type": "code",
        "outputId": "bcfdc593-7dc8-4d46-e063-e313c61534e9",
        "colab": {
          "base_uri": "https://localhost:8080/",
          "height": 206
        }
      },
      "cell_type": "code",
      "source": [
        "# read CSV file from the 'data' subdirectory using a relative path\n",
        "data = pd.read_csv('https://raw.githubusercontent.com/sg2/intro/master/2-TypesOfML/ipynb/data/Advertising.csv', index_col=0)\n",
        "\n",
        "# display the first 5 rows\n",
        "data.head()"
      ],
      "execution_count": 3,
      "outputs": [
        {
          "output_type": "execute_result",
          "data": {
            "text/html": [
              "<div>\n",
              "<style scoped>\n",
              "    .dataframe tbody tr th:only-of-type {\n",
              "        vertical-align: middle;\n",
              "    }\n",
              "\n",
              "    .dataframe tbody tr th {\n",
              "        vertical-align: top;\n",
              "    }\n",
              "\n",
              "    .dataframe thead th {\n",
              "        text-align: right;\n",
              "    }\n",
              "</style>\n",
              "<table border=\"1\" class=\"dataframe\">\n",
              "  <thead>\n",
              "    <tr style=\"text-align: right;\">\n",
              "      <th></th>\n",
              "      <th>TV</th>\n",
              "      <th>Radio</th>\n",
              "      <th>Newspaper</th>\n",
              "      <th>Sales</th>\n",
              "    </tr>\n",
              "  </thead>\n",
              "  <tbody>\n",
              "    <tr>\n",
              "      <th>1</th>\n",
              "      <td>230.1</td>\n",
              "      <td>37.8</td>\n",
              "      <td>69.2</td>\n",
              "      <td>22.1</td>\n",
              "    </tr>\n",
              "    <tr>\n",
              "      <th>2</th>\n",
              "      <td>44.5</td>\n",
              "      <td>39.3</td>\n",
              "      <td>45.1</td>\n",
              "      <td>10.4</td>\n",
              "    </tr>\n",
              "    <tr>\n",
              "      <th>3</th>\n",
              "      <td>17.2</td>\n",
              "      <td>45.9</td>\n",
              "      <td>69.3</td>\n",
              "      <td>9.3</td>\n",
              "    </tr>\n",
              "    <tr>\n",
              "      <th>4</th>\n",
              "      <td>151.5</td>\n",
              "      <td>41.3</td>\n",
              "      <td>58.5</td>\n",
              "      <td>18.5</td>\n",
              "    </tr>\n",
              "    <tr>\n",
              "      <th>5</th>\n",
              "      <td>180.8</td>\n",
              "      <td>10.8</td>\n",
              "      <td>58.4</td>\n",
              "      <td>12.9</td>\n",
              "    </tr>\n",
              "  </tbody>\n",
              "</table>\n",
              "</div>"
            ],
            "text/plain": [
              "      TV  Radio  Newspaper  Sales\n",
              "1  230.1   37.8       69.2   22.1\n",
              "2   44.5   39.3       45.1   10.4\n",
              "3   17.2   45.9       69.3    9.3\n",
              "4  151.5   41.3       58.5   18.5\n",
              "5  180.8   10.8       58.4   12.9"
            ]
          },
          "metadata": {
            "tags": []
          },
          "execution_count": 3
        }
      ]
    },
    {
      "metadata": {
        "id": "Xm3gQ-TK8ncW",
        "colab_type": "text"
      },
      "cell_type": "markdown",
      "source": [
        "Primary object types:\n",
        "\n",
        "- **DataFrame:** rows and columns (like a spreadsheet)\n",
        "- **Series:** a single column"
      ]
    },
    {
      "metadata": {
        "id": "-4Z0zu7A8nca",
        "colab_type": "code",
        "outputId": "0d070c83-575c-47fc-affe-894ad307e764",
        "colab": {
          "base_uri": "https://localhost:8080/",
          "height": 206
        }
      },
      "cell_type": "code",
      "source": [
        "# display the last 5 rows\n",
        "data.tail()"
      ],
      "execution_count": 4,
      "outputs": [
        {
          "output_type": "execute_result",
          "data": {
            "text/html": [
              "<div>\n",
              "<style scoped>\n",
              "    .dataframe tbody tr th:only-of-type {\n",
              "        vertical-align: middle;\n",
              "    }\n",
              "\n",
              "    .dataframe tbody tr th {\n",
              "        vertical-align: top;\n",
              "    }\n",
              "\n",
              "    .dataframe thead th {\n",
              "        text-align: right;\n",
              "    }\n",
              "</style>\n",
              "<table border=\"1\" class=\"dataframe\">\n",
              "  <thead>\n",
              "    <tr style=\"text-align: right;\">\n",
              "      <th></th>\n",
              "      <th>TV</th>\n",
              "      <th>Radio</th>\n",
              "      <th>Newspaper</th>\n",
              "      <th>Sales</th>\n",
              "    </tr>\n",
              "  </thead>\n",
              "  <tbody>\n",
              "    <tr>\n",
              "      <th>196</th>\n",
              "      <td>38.2</td>\n",
              "      <td>3.7</td>\n",
              "      <td>13.8</td>\n",
              "      <td>7.6</td>\n",
              "    </tr>\n",
              "    <tr>\n",
              "      <th>197</th>\n",
              "      <td>94.2</td>\n",
              "      <td>4.9</td>\n",
              "      <td>8.1</td>\n",
              "      <td>9.7</td>\n",
              "    </tr>\n",
              "    <tr>\n",
              "      <th>198</th>\n",
              "      <td>177.0</td>\n",
              "      <td>9.3</td>\n",
              "      <td>6.4</td>\n",
              "      <td>12.8</td>\n",
              "    </tr>\n",
              "    <tr>\n",
              "      <th>199</th>\n",
              "      <td>283.6</td>\n",
              "      <td>42.0</td>\n",
              "      <td>66.2</td>\n",
              "      <td>25.5</td>\n",
              "    </tr>\n",
              "    <tr>\n",
              "      <th>200</th>\n",
              "      <td>232.1</td>\n",
              "      <td>8.6</td>\n",
              "      <td>8.7</td>\n",
              "      <td>13.4</td>\n",
              "    </tr>\n",
              "  </tbody>\n",
              "</table>\n",
              "</div>"
            ],
            "text/plain": [
              "        TV  Radio  Newspaper  Sales\n",
              "196   38.2    3.7       13.8    7.6\n",
              "197   94.2    4.9        8.1    9.7\n",
              "198  177.0    9.3        6.4   12.8\n",
              "199  283.6   42.0       66.2   25.5\n",
              "200  232.1    8.6        8.7   13.4"
            ]
          },
          "metadata": {
            "tags": []
          },
          "execution_count": 4
        }
      ]
    },
    {
      "metadata": {
        "id": "l27g_-oc8nch",
        "colab_type": "code",
        "outputId": "65af5841-d165-44d5-8d9b-8eba4e3b699f",
        "colab": {
          "base_uri": "https://localhost:8080/",
          "height": 34
        }
      },
      "cell_type": "code",
      "source": [
        "# check the shape of the DataFrame (rows, columns)\n",
        "data.shape"
      ],
      "execution_count": 5,
      "outputs": [
        {
          "output_type": "execute_result",
          "data": {
            "text/plain": [
              "(200, 4)"
            ]
          },
          "metadata": {
            "tags": []
          },
          "execution_count": 5
        }
      ]
    },
    {
      "metadata": {
        "id": "tjPdUP4M8ncm",
        "colab_type": "text"
      },
      "cell_type": "markdown",
      "source": [
        "What are the features?\n",
        "- **TV:** advertising dollars spent on TV for a single product in a given market (in thousands of dollars)\n",
        "- **Radio:** advertising dollars spent on Radio\n",
        "- **Newspaper:** advertising dollars spent on Newspaper\n",
        "\n",
        "What is the response?\n",
        "- **Sales:** sales of a single product in a given market (in thousands of items)\n",
        "\n",
        "What else do we know?\n",
        "- Because the response variable is continuous, this is a **regression** problem.\n",
        "- There are 200 **observations** (represented by the rows), and each observation is a single market."
      ]
    },
    {
      "metadata": {
        "id": "DYKYs3J18ncn",
        "colab_type": "text"
      },
      "cell_type": "markdown",
      "source": [
        "## Visualizing data using seaborn\n",
        "\n",
        "**Seaborn:** Python library for statistical data visualization built on top of Matplotlib"
      ]
    },
    {
      "metadata": {
        "id": "n64aDxVt8ncp",
        "colab_type": "code",
        "colab": {}
      },
      "cell_type": "code",
      "source": [
        "# conventional way to import seaborn\n",
        "import seaborn as sns\n",
        "\n",
        "# allow plots to appear within the notebook\n",
        "%matplotlib inline"
      ],
      "execution_count": 0,
      "outputs": []
    },
    {
      "metadata": {
        "id": "vdZcmUJ68ncy",
        "colab_type": "code",
        "outputId": "0a1c871b-b291-4c4d-cffc-e43caf3beced",
        "colab": {
          "base_uri": "https://localhost:8080/",
          "height": 382
        }
      },
      "cell_type": "code",
      "source": [
        "# visualize the relationship between the features and the response using scatterplots\n",
        "sns.pairplot(data, x_vars=['TV'], y_vars='Sales', size=5, aspect=1.2, kind='reg')"
      ],
      "execution_count": 7,
      "outputs": [
        {
          "output_type": "execute_result",
          "data": {
            "text/plain": [
              "<seaborn.axisgrid.PairGrid at 0x7f17cd9abc88>"
            ]
          },
          "metadata": {
            "tags": []
          },
          "execution_count": 7
        },
        {
          "output_type": "display_data",
          "data": {
            "image/png": "[encoded data removed]",
            "text/plain": [
              "<matplotlib.figure.Figure at 0x7f17e851fe10>"
            ]
          },
          "metadata": {
            "tags": []
          }
        }
      ]
    },
    {
      "metadata": {
        "id": "sSr2JzVlCq1v",
        "colab_type": "code",
        "outputId": "bf144b79-6462-4802-d8ca-69a769658144",
        "colab": {
          "base_uri": "https://localhost:8080/",
          "height": 382
        }
      },
      "cell_type": "code",
      "source": [
        "sns.pairplot(data, x_vars=['Radio'], y_vars='Sales', size=5, aspect=1.2, kind='reg')"
      ],
      "execution_count": 8,
      "outputs": [
        {
          "output_type": "execute_result",
          "data": {
            "text/plain": [
              "<seaborn.axisgrid.PairGrid at 0x7f17cd90f080>"
            ]
          },
          "metadata": {
            "tags": []
          },
          "execution_count": 8
        },
        {
          "output_type": "display_data",
          "data": {
            "image/png": "[encoded data removed]",
            "text/plain": [
              "<matplotlib.figure.Figure at 0x7f17cd90f0f0>"
            ]
          },
          "metadata": {
            "tags": []
          }
        }
      ]
    },
    {
      "metadata": {
        "id": "HnIUojwbCtdi",
        "colab_type": "code",
        "outputId": "4b7a563f-fb13-4bb0-978c-0a0c139ff15d",
        "colab": {
          "base_uri": "https://localhost:8080/",
          "height": 382
        }
      },
      "cell_type": "code",
      "source": [
        "sns.pairplot(data, x_vars=['Newspaper'], y_vars='Sales', size=5, aspect=1.2, kind='reg')"
      ],
      "execution_count": 9,
      "outputs": [
        {
          "output_type": "execute_result",
          "data": {
            "text/plain": [
              "<seaborn.axisgrid.PairGrid at 0x7f17cb045898>"
            ]
          },
          "metadata": {
            "tags": []
          },
          "execution_count": 9
        },
        {
          "output_type": "display_data",
          "data": {
            "image/png": "[encoded data removed]",
            "text/plain": [
              "<matplotlib.figure.Figure at 0x7f17cb045390>"
            ]
          },
          "metadata": {
            "tags": []
          }
        }
      ]
    },
    {
      "metadata": {
        "id": "mwNmEcPP8nc3",
        "colab_type": "text"
      },
      "cell_type": "markdown",
      "source": [
        "## Linear regression\n",
        "\n",
        "**Pros:** fast, no tuning required, highly interpretable, well-understood\n",
        "\n",
        "**Cons:** unlikely to produce the best predictive accuracy (presumes a linear relationship between the features and response)"
      ]
    },
    {
      "metadata": {
        "id": "BbxEmcTv8nc7",
        "colab_type": "text"
      },
      "cell_type": "markdown",
      "source": [
        "### Form of linear regression\n",
        "\n",
        "$y = \\beta_0 + \\beta_1x_1 + \\beta_2x_2 + ... + \\beta_nx_n$\n",
        "\n",
        "- $y$ is the response\n",
        "- $\\beta_0$ is the intercept\n",
        "- $\\beta_1$ is the coefficient for $x_1$ (the first feature)\n",
        "- $\\beta_n$ is the coefficient for $x_n$ (the nth feature)\n",
        "\n",
        "In this case:\n",
        "\n",
        "$y = \\beta_0 + \\beta_1 \\times TV + \\beta_2 \\times Radio + \\beta_3 \\times Newspaper$\n",
        "\n",
        "The $\\beta$ values are called the **model coefficients**. These values are \"learned\" during the model fitting step using the \"least squares\" criterion. Then, the fitted model can be used to make predictions!"
      ]
    },
    {
      "metadata": {
        "id": "zpwS5lqI8nc8",
        "colab_type": "text"
      },
      "cell_type": "markdown",
      "source": [
        "## Preparing X and y using pandas\n",
        "\n",
        "- scikit-learn expects X (feature matrix) and y (response vector) to be NumPy arrays.\n",
        "- However, pandas is built on top of NumPy.\n",
        "- Thus, X can be a pandas DataFrame and y can be a pandas Series!"
      ]
    },
    {
      "metadata": {
        "id": "vWZQTeuW8nc9",
        "colab_type": "code",
        "outputId": "0285982c-31a3-438b-fc65-a30218d4f41d",
        "colab": {
          "base_uri": "https://localhost:8080/",
          "height": 206
        }
      },
      "cell_type": "code",
      "source": [
        "# create a Python list of feature names\n",
        "feature_cols = ['TV', 'Radio', 'Newspaper']\n",
        "\n",
        "# use the list to select a subset of the original DataFrame\n",
        "X = data[feature_cols]\n",
        "\n",
        "# equivalent command to do this in one line\n",
        "X = data[['TV', 'Radio', 'Newspaper']]\n",
        "\n",
        "# print the first 5 rows\n",
        "X.head()"
      ],
      "execution_count": 10,
      "outputs": [
        {
          "output_type": "execute_result",
          "data": {
            "text/html": [
              "<div>\n",
              "<style scoped>\n",
              "    .dataframe tbody tr th:only-of-type {\n",
              "        vertical-align: middle;\n",
              "    }\n",
              "\n",
              "    .dataframe tbody tr th {\n",
              "        vertical-align: top;\n",
              "    }\n",
              "\n",
              "    .dataframe thead th {\n",
              "        text-align: right;\n",
              "    }\n",
              "</style>\n",
              "<table border=\"1\" class=\"dataframe\">\n",
              "  <thead>\n",
              "    <tr style=\"text-align: right;\">\n",
              "      <th></th>\n",
              "      <th>TV</th>\n",
              "      <th>Radio</th>\n",
              "      <th>Newspaper</th>\n",
              "    </tr>\n",
              "  </thead>\n",
              "  <tbody>\n",
              "    <tr>\n",
              "      <th>1</th>\n",
              "      <td>230.1</td>\n",
              "      <td>37.8</td>\n",
              "      <td>69.2</td>\n",
              "    </tr>\n",
              "    <tr>\n",
              "      <th>2</th>\n",
              "      <td>44.5</td>\n",
              "      <td>39.3</td>\n",
              "      <td>45.1</td>\n",
              "    </tr>\n",
              "    <tr>\n",
              "      <th>3</th>\n",
              "      <td>17.2</td>\n",
              "      <td>45.9</td>\n",
              "      <td>69.3</td>\n",
              "    </tr>\n",
              "    <tr>\n",
              "      <th>4</th>\n",
              "      <td>151.5</td>\n",
              "      <td>41.3</td>\n",
              "      <td>58.5</td>\n",
              "    </tr>\n",
              "    <tr>\n",
              "      <th>5</th>\n",
              "      <td>180.8</td>\n",
              "      <td>10.8</td>\n",
              "      <td>58.4</td>\n",
              "    </tr>\n",
              "  </tbody>\n",
              "</table>\n",
              "</div>"
            ],
            "text/plain": [
              "      TV  Radio  Newspaper\n",
              "1  230.1   37.8       69.2\n",
              "2   44.5   39.3       45.1\n",
              "3   17.2   45.9       69.3\n",
              "4  151.5   41.3       58.5\n",
              "5  180.8   10.8       58.4"
            ]
          },
          "metadata": {
            "tags": []
          },
          "execution_count": 10
        }
      ]
    },
    {
      "metadata": {
        "id": "lTmX4gfp8ndE",
        "colab_type": "code",
        "outputId": "c9f0be7e-bce9-4cd5-9ab2-de29b7272b33",
        "colab": {
          "base_uri": "https://localhost:8080/",
          "height": 51
        }
      },
      "cell_type": "code",
      "source": [
        "# check the type and shape of X\n",
        "print(type(X))\n",
        "print(X.shape)"
      ],
      "execution_count": 11,
      "outputs": [
        {
          "output_type": "stream",
          "text": [
            "<class 'pandas.core.frame.DataFrame'>\n",
            "(200, 3)\n"
          ],
          "name": "stdout"
        }
      ]
    },
    {
      "metadata": {
        "id": "2buYdLmm8ndI",
        "colab_type": "code",
        "outputId": "e3482de0-c6e0-49cb-fee6-e1eac05235b3",
        "colab": {
          "base_uri": "https://localhost:8080/",
          "height": 121
        }
      },
      "cell_type": "code",
      "source": [
        "# select a Series from the DataFrame\n",
        "y = data['Sales']\n",
        "\n",
        "# equivalent command that works if there are no spaces in the column name\n",
        "y = data.Sales\n",
        "\n",
        "# print the first 5 values\n",
        "y.head()"
      ],
      "execution_count": 12,
      "outputs": [
        {
          "output_type": "execute_result",
          "data": {
            "text/plain": [
              "1    22.1\n",
              "2    10.4\n",
              "3     9.3\n",
              "4    18.5\n",
              "5    12.9\n",
              "Name: Sales, dtype: float64"
            ]
          },
          "metadata": {
            "tags": []
          },
          "execution_count": 12
        }
      ]
    },
    {
      "metadata": {
        "id": "5NwyZXLe8ndO",
        "colab_type": "code",
        "outputId": "d4fe5b84-d0c7-43a4-9c20-26f20a6068a1",
        "colab": {
          "base_uri": "https://localhost:8080/",
          "height": 51
        }
      },
      "cell_type": "code",
      "source": [
        "# check the type and shape of y\n",
        "print(type(y))\n",
        "print(y.shape)"
      ],
      "execution_count": 13,
      "outputs": [
        {
          "output_type": "stream",
          "text": [
            "<class 'pandas.core.series.Series'>\n",
            "(200,)\n"
          ],
          "name": "stdout"
        }
      ]
    },
    {
      "metadata": {
        "id": "2PxyeL5y8ndS",
        "colab_type": "text"
      },
      "cell_type": "markdown",
      "source": [
        "## Splitting X and y into training and testing sets"
      ]
    },
    {
      "metadata": {
        "id": "_eeNrgB-8ndT",
        "colab_type": "code",
        "colab": {}
      },
      "cell_type": "code",
      "source": [
        "from sklearn.model_selection import train_test_split\n",
        "X_train, X_test, y_train, y_test = train_test_split(X, y, random_state=1)"
      ],
      "execution_count": 0,
      "outputs": []
    },
    {
      "metadata": {
        "id": "nn76d-pC8ndX",
        "colab_type": "code",
        "outputId": "cc60b06b-35cd-492a-da2a-99eecf962b78",
        "colab": {
          "base_uri": "https://localhost:8080/",
          "height": 86
        }
      },
      "cell_type": "code",
      "source": [
        "# default split is 75% for training and 25% for testing\n",
        "print(X_train.shape)\n",
        "print(y_train.shape)\n",
        "print(X_test.shape)\n",
        "print(y_test.shape)"
      ],
      "execution_count": 15,
      "outputs": [
        {
          "output_type": "stream",
          "text": [
            "(150, 3)\n",
            "(150,)\n",
            "(50, 3)\n",
            "(50,)\n"
          ],
          "name": "stdout"
        }
      ]
    },
    {
      "metadata": {
        "id": "-eGr8qFY8ndg",
        "colab_type": "text"
      },
      "cell_type": "markdown",
      "source": [
        "## Linear regression in scikit-learn"
      ]
    },
    {
      "metadata": {
        "id": "Z-XWJFC98ndi",
        "colab_type": "code",
        "outputId": "1c5e5be6-ee48-428c-a7a4-8dd579ba9bda",
        "colab": {
          "base_uri": "https://localhost:8080/",
          "height": 34
        }
      },
      "cell_type": "code",
      "source": [
        "# import model\n",
        "from sklearn.linear_model import LinearRegression\n",
        "\n",
        "# instantiate\n",
        "linreg = LinearRegression()\n",
        "\n",
        "# fit the model to the training data (learn the coefficients)\n",
        "linreg.fit(X_train, y_train)"
      ],
      "execution_count": 16,
      "outputs": [
        {
          "output_type": "execute_result",
          "data": {
            "text/plain": [
              "LinearRegression(copy_X=True, fit_intercept=True, n_jobs=1, normalize=False)"
            ]
          },
          "metadata": {
            "tags": []
          },
          "execution_count": 16
        }
      ]
    },
    {
      "metadata": {
        "id": "WvYs3XT-8ndn",
        "colab_type": "text"
      },
      "cell_type": "markdown",
      "source": [
        "### Interpreting model coefficients"
      ]
    },
    {
      "metadata": {
        "id": "aUOzwFFi8ndo",
        "colab_type": "code",
        "outputId": "b66e2050-8f96-4a63-8b1f-175b3ba24596",
        "colab": {
          "base_uri": "https://localhost:8080/",
          "height": 51
        }
      },
      "cell_type": "code",
      "source": [
        "# print the intercept and coefficients\n",
        "print(linreg.intercept_)\n",
        "print(linreg.coef_)"
      ],
      "execution_count": 17,
      "outputs": [
        {
          "output_type": "stream",
          "text": [
            "2.87696662231793\n",
            "[0.04656457 0.17915812 0.00345046]\n"
          ],
          "name": "stdout"
        }
      ]
    },
    {
      "metadata": {
        "id": "U4REvWLq8ndy",
        "colab_type": "code",
        "outputId": "0d38ee68-2071-45f0-8248-b00c612118e4",
        "colab": {
          "base_uri": "https://localhost:8080/",
          "height": 69
        }
      },
      "cell_type": "code",
      "source": [
        "# pair the feature names with the coefficients\n",
        "list(zip(feature_cols, linreg.coef_))"
      ],
      "execution_count": 18,
      "outputs": [
        {
          "output_type": "execute_result",
          "data": {
            "text/plain": [
              "[('TV', 0.046564567874150295),\n",
              " ('Radio', 0.17915812245088839),\n",
              " ('Newspaper', 0.0034504647111804343)]"
            ]
          },
          "metadata": {
            "tags": []
          },
          "execution_count": 18
        }
      ]
    },
    {
      "metadata": {
        "id": "J94bjcEk8nd2",
        "colab_type": "text"
      },
      "cell_type": "markdown",
      "source": [
        "$$y = 2.88 + 0.0466 \\times TV + 0.179 \\times Radio + 0.00345 \\times Newspaper$$\n",
        "\n",
        "How do we interpret the **TV coefficient** (0.0466)?\n",
        "\n",
        "- For a given amount of Radio and Newspaper ad spending, **a \"unit\" increase in TV ad spending** is associated with a **0.0466 \"unit\" increase in Sales**.\n",
        "- Or more clearly: For a given amount of Radio and Newspaper ad spending, **an additional $1,000 spent on TV ads** is associated with an **increase in sales of 46.6 items**."
      ]
    },
    {
      "metadata": {
        "id": "3bkCn_Tx8nd4",
        "colab_type": "text"
      },
      "cell_type": "markdown",
      "source": [
        "### Making predictions"
      ]
    },
    {
      "metadata": {
        "id": "nPHZ4Rub8nd5",
        "colab_type": "code",
        "colab": {}
      },
      "cell_type": "code",
      "source": [
        "# make predictions on the testing set\n",
        "y_pred = linreg.predict(X_test)"
      ],
      "execution_count": 0,
      "outputs": []
    },
    {
      "metadata": {
        "id": "ivA3ZO6xOjVz",
        "colab_type": "code",
        "colab": {
          "base_uri": "https://localhost:8080/",
          "height": 1616
        },
        "outputId": "7d38f0d8-0003-4975-8c89-0d0a98dd44c6"
      },
      "cell_type": "code",
      "source": [
        "X_test"
      ],
      "execution_count": 20,
      "outputs": [
        {
          "output_type": "execute_result",
          "data": {
            "text/html": [
              "<div>\n",
              "<style scoped>\n",
              "    .dataframe tbody tr th:only-of-type {\n",
              "        vertical-align: middle;\n",
              "    }\n",
              "\n",
              "    .dataframe tbody tr th {\n",
              "        vertical-align: top;\n",
              "    }\n",
              "\n",
              "    .dataframe thead th {\n",
              "        text-align: right;\n",
              "    }\n",
              "</style>\n",
              "<table border=\"1\" class=\"dataframe\">\n",
              "  <thead>\n",
              "    <tr style=\"text-align: right;\">\n",
              "      <th></th>\n",
              "      <th>TV</th>\n",
              "      <th>Radio</th>\n",
              "      <th>Newspaper</th>\n",
              "    </tr>\n",
              "  </thead>\n",
              "  <tbody>\n",
              "    <tr>\n",
              "      <th>59</th>\n",
              "      <td>210.8</td>\n",
              "      <td>49.6</td>\n",
              "      <td>37.7</td>\n",
              "    </tr>\n",
              "    <tr>\n",
              "      <th>41</th>\n",
              "      <td>202.5</td>\n",
              "      <td>22.3</td>\n",
              "      <td>31.6</td>\n",
              "    </tr>\n",
              "    <tr>\n",
              "      <th>35</th>\n",
              "      <td>95.7</td>\n",
              "      <td>1.4</td>\n",
              "      <td>7.4</td>\n",
              "    </tr>\n",
              "    <tr>\n",
              "      <th>103</th>\n",
              "      <td>280.2</td>\n",
              "      <td>10.1</td>\n",
              "      <td>21.4</td>\n",
              "    </tr>\n",
              "    <tr>\n",
              "      <th>185</th>\n",
              "      <td>253.8</td>\n",
              "      <td>21.3</td>\n",
              "      <td>30.0</td>\n",
              "    </tr>\n",
              "    <tr>\n",
              "      <th>199</th>\n",
              "      <td>283.6</td>\n",
              "      <td>42.0</td>\n",
              "      <td>66.2</td>\n",
              "    </tr>\n",
              "    <tr>\n",
              "      <th>96</th>\n",
              "      <td>163.3</td>\n",
              "      <td>31.6</td>\n",
              "      <td>52.9</td>\n",
              "    </tr>\n",
              "    <tr>\n",
              "      <th>5</th>\n",
              "      <td>180.8</td>\n",
              "      <td>10.8</td>\n",
              "      <td>58.4</td>\n",
              "    </tr>\n",
              "    <tr>\n",
              "      <th>30</th>\n",
              "      <td>70.6</td>\n",
              "      <td>16.0</td>\n",
              "      <td>40.8</td>\n",
              "    </tr>\n",
              "    <tr>\n",
              "      <th>169</th>\n",
              "      <td>215.4</td>\n",
              "      <td>23.6</td>\n",
              "      <td>57.6</td>\n",
              "    </tr>\n",
              "    <tr>\n",
              "      <th>172</th>\n",
              "      <td>164.5</td>\n",
              "      <td>20.9</td>\n",
              "      <td>47.4</td>\n",
              "    </tr>\n",
              "    <tr>\n",
              "      <th>19</th>\n",
              "      <td>69.2</td>\n",
              "      <td>20.5</td>\n",
              "      <td>18.3</td>\n",
              "    </tr>\n",
              "    <tr>\n",
              "      <th>12</th>\n",
              "      <td>214.7</td>\n",
              "      <td>24.0</td>\n",
              "      <td>4.0</td>\n",
              "    </tr>\n",
              "    <tr>\n",
              "      <th>90</th>\n",
              "      <td>109.8</td>\n",
              "      <td>47.8</td>\n",
              "      <td>51.4</td>\n",
              "    </tr>\n",
              "    <tr>\n",
              "      <th>111</th>\n",
              "      <td>225.8</td>\n",
              "      <td>8.2</td>\n",
              "      <td>56.5</td>\n",
              "    </tr>\n",
              "    <tr>\n",
              "      <th>119</th>\n",
              "      <td>125.7</td>\n",
              "      <td>36.9</td>\n",
              "      <td>79.2</td>\n",
              "    </tr>\n",
              "    <tr>\n",
              "      <th>160</th>\n",
              "      <td>131.7</td>\n",
              "      <td>18.4</td>\n",
              "      <td>34.6</td>\n",
              "    </tr>\n",
              "    <tr>\n",
              "      <th>36</th>\n",
              "      <td>290.7</td>\n",
              "      <td>4.1</td>\n",
              "      <td>8.5</td>\n",
              "    </tr>\n",
              "    <tr>\n",
              "      <th>137</th>\n",
              "      <td>25.6</td>\n",
              "      <td>39.0</td>\n",
              "      <td>9.3</td>\n",
              "    </tr>\n",
              "    <tr>\n",
              "      <th>60</th>\n",
              "      <td>210.7</td>\n",
              "      <td>29.5</td>\n",
              "      <td>9.3</td>\n",
              "    </tr>\n",
              "    <tr>\n",
              "      <th>52</th>\n",
              "      <td>100.4</td>\n",
              "      <td>9.6</td>\n",
              "      <td>3.6</td>\n",
              "    </tr>\n",
              "    <tr>\n",
              "      <th>17</th>\n",
              "      <td>67.8</td>\n",
              "      <td>36.6</td>\n",
              "      <td>114.0</td>\n",
              "    </tr>\n",
              "    <tr>\n",
              "      <th>45</th>\n",
              "      <td>25.1</td>\n",
              "      <td>25.7</td>\n",
              "      <td>43.3</td>\n",
              "    </tr>\n",
              "    <tr>\n",
              "      <th>95</th>\n",
              "      <td>107.4</td>\n",
              "      <td>14.0</td>\n",
              "      <td>10.9</td>\n",
              "    </tr>\n",
              "    <tr>\n",
              "      <th>32</th>\n",
              "      <td>112.9</td>\n",
              "      <td>17.4</td>\n",
              "      <td>38.6</td>\n",
              "    </tr>\n",
              "    <tr>\n",
              "      <th>163</th>\n",
              "      <td>188.4</td>\n",
              "      <td>18.1</td>\n",
              "      <td>25.6</td>\n",
              "    </tr>\n",
              "    <tr>\n",
              "      <th>39</th>\n",
              "      <td>43.1</td>\n",
              "      <td>26.7</td>\n",
              "      <td>35.1</td>\n",
              "    </tr>\n",
              "    <tr>\n",
              "      <th>29</th>\n",
              "      <td>248.8</td>\n",
              "      <td>27.1</td>\n",
              "      <td>22.9</td>\n",
              "    </tr>\n",
              "    <tr>\n",
              "      <th>194</th>\n",
              "      <td>166.8</td>\n",
              "      <td>42.0</td>\n",
              "      <td>3.6</td>\n",
              "    </tr>\n",
              "    <tr>\n",
              "      <th>28</th>\n",
              "      <td>240.1</td>\n",
              "      <td>16.7</td>\n",
              "      <td>22.9</td>\n",
              "    </tr>\n",
              "    <tr>\n",
              "      <th>48</th>\n",
              "      <td>239.9</td>\n",
              "      <td>41.5</td>\n",
              "      <td>18.5</td>\n",
              "    </tr>\n",
              "    <tr>\n",
              "      <th>166</th>\n",
              "      <td>234.5</td>\n",
              "      <td>3.4</td>\n",
              "      <td>84.8</td>\n",
              "    </tr>\n",
              "    <tr>\n",
              "      <th>195</th>\n",
              "      <td>149.7</td>\n",
              "      <td>35.6</td>\n",
              "      <td>6.0</td>\n",
              "    </tr>\n",
              "    <tr>\n",
              "      <th>178</th>\n",
              "      <td>170.2</td>\n",
              "      <td>7.8</td>\n",
              "      <td>35.2</td>\n",
              "    </tr>\n",
              "    <tr>\n",
              "      <th>177</th>\n",
              "      <td>248.4</td>\n",
              "      <td>30.2</td>\n",
              "      <td>20.3</td>\n",
              "    </tr>\n",
              "    <tr>\n",
              "      <th>98</th>\n",
              "      <td>184.9</td>\n",
              "      <td>21.0</td>\n",
              "      <td>22.0</td>\n",
              "    </tr>\n",
              "    <tr>\n",
              "      <th>175</th>\n",
              "      <td>222.4</td>\n",
              "      <td>3.4</td>\n",
              "      <td>13.1</td>\n",
              "    </tr>\n",
              "    <tr>\n",
              "      <th>74</th>\n",
              "      <td>129.4</td>\n",
              "      <td>5.7</td>\n",
              "      <td>31.3</td>\n",
              "    </tr>\n",
              "    <tr>\n",
              "      <th>70</th>\n",
              "      <td>216.8</td>\n",
              "      <td>43.9</td>\n",
              "      <td>27.2</td>\n",
              "    </tr>\n",
              "    <tr>\n",
              "      <th>173</th>\n",
              "      <td>19.6</td>\n",
              "      <td>20.1</td>\n",
              "      <td>17.0</td>\n",
              "    </tr>\n",
              "    <tr>\n",
              "      <th>109</th>\n",
              "      <td>13.1</td>\n",
              "      <td>0.4</td>\n",
              "      <td>25.6</td>\n",
              "    </tr>\n",
              "    <tr>\n",
              "      <th>108</th>\n",
              "      <td>90.4</td>\n",
              "      <td>0.3</td>\n",
              "      <td>23.2</td>\n",
              "    </tr>\n",
              "    <tr>\n",
              "      <th>190</th>\n",
              "      <td>18.7</td>\n",
              "      <td>12.1</td>\n",
              "      <td>23.4</td>\n",
              "    </tr>\n",
              "    <tr>\n",
              "      <th>15</th>\n",
              "      <td>204.1</td>\n",
              "      <td>32.9</td>\n",
              "      <td>46.0</td>\n",
              "    </tr>\n",
              "    <tr>\n",
              "      <th>57</th>\n",
              "      <td>7.3</td>\n",
              "      <td>28.1</td>\n",
              "      <td>41.4</td>\n",
              "    </tr>\n",
              "    <tr>\n",
              "      <th>20</th>\n",
              "      <td>147.3</td>\n",
              "      <td>23.9</td>\n",
              "      <td>19.1</td>\n",
              "    </tr>\n",
              "    <tr>\n",
              "      <th>115</th>\n",
              "      <td>78.2</td>\n",
              "      <td>46.8</td>\n",
              "      <td>34.5</td>\n",
              "    </tr>\n",
              "    <tr>\n",
              "      <th>40</th>\n",
              "      <td>228.0</td>\n",
              "      <td>37.7</td>\n",
              "      <td>32.0</td>\n",
              "    </tr>\n",
              "    <tr>\n",
              "      <th>186</th>\n",
              "      <td>205.0</td>\n",
              "      <td>45.1</td>\n",
              "      <td>19.6</td>\n",
              "    </tr>\n",
              "    <tr>\n",
              "      <th>125</th>\n",
              "      <td>229.5</td>\n",
              "      <td>32.3</td>\n",
              "      <td>74.2</td>\n",
              "    </tr>\n",
              "  </tbody>\n",
              "</table>\n",
              "</div>"
            ],
            "text/plain": [
              "        TV  Radio  Newspaper\n",
              "59   210.8   49.6       37.7\n",
              "41   202.5   22.3       31.6\n",
              "35    95.7    1.4        7.4\n",
              "103  280.2   10.1       21.4\n",
              "185  253.8   21.3       30.0\n",
              "199  283.6   42.0       66.2\n",
              "96   163.3   31.6       52.9\n",
              "5    180.8   10.8       58.4\n",
              "30    70.6   16.0       40.8\n",
              "169  215.4   23.6       57.6\n",
              "172  164.5   20.9       47.4\n",
              "19    69.2   20.5       18.3\n",
              "12   214.7   24.0        4.0\n",
              "90   109.8   47.8       51.4\n",
              "111  225.8    8.2       56.5\n",
              "119  125.7   36.9       79.2\n",
              "160  131.7   18.4       34.6\n",
              "36   290.7    4.1        8.5\n",
              "137   25.6   39.0        9.3\n",
              "60   210.7   29.5        9.3\n",
              "52   100.4    9.6        3.6\n",
              "17    67.8   36.6      114.0\n",
              "45    25.1   25.7       43.3\n",
              "95   107.4   14.0       10.9\n",
              "32   112.9   17.4       38.6\n",
              "163  188.4   18.1       25.6\n",
              "39    43.1   26.7       35.1\n",
              "29   248.8   27.1       22.9\n",
              "194  166.8   42.0        3.6\n",
              "28   240.1   16.7       22.9\n",
              "48   239.9   41.5       18.5\n",
              "166  234.5    3.4       84.8\n",
              "195  149.7   35.6        6.0\n",
              "178  170.2    7.8       35.2\n",
              "177  248.4   30.2       20.3\n",
              "98   184.9   21.0       22.0\n",
              "175  222.4    3.4       13.1\n",
              "74   129.4    5.7       31.3\n",
              "70   216.8   43.9       27.2\n",
              "173   19.6   20.1       17.0\n",
              "109   13.1    0.4       25.6\n",
              "108   90.4    0.3       23.2\n",
              "190   18.7   12.1       23.4\n",
              "15   204.1   32.9       46.0\n",
              "57     7.3   28.1       41.4\n",
              "20   147.3   23.9       19.1\n",
              "115   78.2   46.8       34.5\n",
              "40   228.0   37.7       32.0\n",
              "186  205.0   45.1       19.6\n",
              "125  229.5   32.3       74.2"
            ]
          },
          "metadata": {
            "tags": []
          },
          "execution_count": 20
        }
      ]
    },
    {
      "metadata": {
        "id": "ngm8nyKz8nd_",
        "colab_type": "text"
      },
      "cell_type": "markdown",
      "source": [
        "We need an **evaluation metric** in order to compare our predictions with the actual values!"
      ]
    },
    {
      "metadata": {
        "id": "oxmCHaIV8neA",
        "colab_type": "text"
      },
      "cell_type": "markdown",
      "source": [
        "## Model evaluation metrics for regression\n",
        "\n",
        "Evaluation metrics for classification problems, such as **accuracy**, are not useful for regression problems. Instead, we need evaluation metrics designed for comparing continuous values.\n",
        "\n",
        "Let's create some example numeric predictions, and calculate **three common evaluation metrics** for regression problems:"
      ]
    },
    {
      "metadata": {
        "id": "kvPl2o-n8neB",
        "colab_type": "code",
        "colab": {}
      },
      "cell_type": "code",
      "source": [
        "# define true and predicted response values\n",
        "true = [100, 50, 30, 20]\n",
        "pred = [90, 50, 50, 30]"
      ],
      "execution_count": 0,
      "outputs": []
    },
    {
      "metadata": {
        "id": "ktmAcxFw8neE",
        "colab_type": "text"
      },
      "cell_type": "markdown",
      "source": [
        "**Mean Absolute Error** (MAE) is the mean of the absolute value of the errors:\n",
        "\n",
        "$$\\frac 1n\\sum_{i=1}^n|y_i-\\hat{y}_i|$$"
      ]
    },
    {
      "metadata": {
        "id": "3umTLiEz8neE",
        "colab_type": "code",
        "outputId": "70a399d0-e364-43fe-95aa-3bc3672f8b72",
        "colab": {
          "base_uri": "https://localhost:8080/",
          "height": 51
        }
      },
      "cell_type": "code",
      "source": [
        "# calculate MAE by hand\n",
        "print((10 + 0 + 20 + 10)/4.)\n",
        "\n",
        "# calculate MAE using scikit-learn\n",
        "from sklearn import metrics\n",
        "print(metrics.mean_absolute_error(true, pred))"
      ],
      "execution_count": 22,
      "outputs": [
        {
          "output_type": "stream",
          "text": [
            "10.0\n",
            "10.0\n"
          ],
          "name": "stdout"
        }
      ]
    },
    {
      "metadata": {
        "id": "WhB9LTaf8neI",
        "colab_type": "text"
      },
      "cell_type": "markdown",
      "source": [
        "**Mean Squared Error** (MSE) is the mean of the squared errors:\n",
        "\n",
        "$$\\frac 1n\\sum_{i=1}^n(y_i-\\hat{y}_i)^2$$"
      ]
    },
    {
      "metadata": {
        "id": "STgRb0Hv8neJ",
        "colab_type": "code",
        "outputId": "6c77835c-c14d-4ee2-def6-99954a891a91",
        "colab": {
          "base_uri": "https://localhost:8080/",
          "height": 51
        }
      },
      "cell_type": "code",
      "source": [
        "# calculate MSE by hand\n",
        "print((10**2 + 0**2 + 20**2 + 10**2)/4.)\n",
        "\n",
        "# calculate MSE using scikit-learn\n",
        "print(metrics.mean_squared_error(true, pred))"
      ],
      "execution_count": 23,
      "outputs": [
        {
          "output_type": "stream",
          "text": [
            "150.0\n",
            "150.0\n"
          ],
          "name": "stdout"
        }
      ]
    },
    {
      "metadata": {
        "id": "FRwuQnpS8neP",
        "colab_type": "text"
      },
      "cell_type": "markdown",
      "source": [
        "**Root Mean Squared Error** (RMSE) is the square root of the mean of the squared errors:\n",
        "\n",
        "$$\\sqrt{\\frac 1n\\sum_{i=1}^n(y_i-\\hat{y}_i)^2}$$"
      ]
    },
    {
      "metadata": {
        "id": "FYX5F3WD8neR",
        "colab_type": "code",
        "outputId": "670f2146-ef4f-4577-c9a4-d4341493453b",
        "colab": {
          "base_uri": "https://localhost:8080/",
          "height": 51
        }
      },
      "cell_type": "code",
      "source": [
        "# calculate RMSE by hand\n",
        "import numpy as np\n",
        "print(np.sqrt((10**2 + 0**2 + 20**2 + 10**2)/4.))\n",
        "\n",
        "# calculate RMSE using scikit-learn\n",
        "print(np.sqrt(metrics.mean_squared_error(true, pred)))"
      ],
      "execution_count": 24,
      "outputs": [
        {
          "output_type": "stream",
          "text": [
            "12.24744871391589\n",
            "12.24744871391589\n"
          ],
          "name": "stdout"
        }
      ]
    },
    {
      "metadata": {
        "id": "jWyDTHt28neV",
        "colab_type": "text"
      },
      "cell_type": "markdown",
      "source": [
        "Comparing these metrics:\n",
        "\n",
        "- **MAE** is the easiest to understand, because it's the average error.\n",
        "- **MSE** is more popular than MAE, because MSE \"punishes\" larger errors.\n",
        "- **RMSE** is even more popular than MSE, because RMSE is interpretable in the \"y\" units."
      ]
    },
    {
      "metadata": {
        "id": "hBSOT9788neW",
        "colab_type": "text"
      },
      "cell_type": "markdown",
      "source": [
        "### Computing the RMSE for our Sales predictions"
      ]
    },
    {
      "metadata": {
        "id": "UZQORdkn8neX",
        "colab_type": "code",
        "outputId": "25b4d3e6-4e8f-4c27-8f18-68c625a88356",
        "colab": {
          "base_uri": "https://localhost:8080/",
          "height": 34
        }
      },
      "cell_type": "code",
      "source": [
        "print(np.sqrt(metrics.mean_squared_error(y_test, y_pred)))"
      ],
      "execution_count": 25,
      "outputs": [
        {
          "output_type": "stream",
          "text": [
            "1.404651423032895\n"
          ],
          "name": "stdout"
        }
      ]
    },
    {
      "metadata": {
        "id": "ihBJZoOc8nec",
        "colab_type": "text"
      },
      "cell_type": "markdown",
      "source": [
        "## Feature selection\n",
        "\n",
        "Does **Newspaper** \"belong\" in our model? In other words, does it improve the quality of our predictions?\n",
        "\n",
        "Let's **remove it** from the model and check the RMSE!"
      ]
    },
    {
      "metadata": {
        "id": "y38jejFz8nec",
        "colab_type": "code",
        "outputId": "6bb46994-f7bc-473a-e633-939b9b624c8c",
        "colab": {
          "base_uri": "https://localhost:8080/",
          "height": 34
        }
      },
      "cell_type": "code",
      "source": [
        "# create a Python list of feature names\n",
        "feature_cols = ['TV', 'Radio']\n",
        "\n",
        "# use the list to select a subset of the original DataFrame\n",
        "X = data[feature_cols]\n",
        "\n",
        "# select a Series from the DataFrame\n",
        "y = data.Sales\n",
        "\n",
        "# split into training and testing sets\n",
        "X_train, X_test, y_train, y_test = train_test_split(X, y, random_state=1)\n",
        "\n",
        "# fit the model to the training data (learn the coefficients)\n",
        "linreg.fit(X_train, y_train)\n",
        "\n",
        "# make predictions on the testing set\n",
        "y_pred = linreg.predict(X_test)\n",
        "\n",
        "# compute the RMSE of our predictions\n",
        "print(np.sqrt(metrics.mean_squared_error(y_test, y_pred)))"
      ],
      "execution_count": 26,
      "outputs": [
        {
          "output_type": "stream",
          "text": [
            "1.3879034699382888\n"
          ],
          "name": "stdout"
        }
      ]
    },
    {
      "metadata": {
        "id": "wAAyExWo8nej",
        "colab_type": "text"
      },
      "cell_type": "markdown",
      "source": [
        "The RMSE **decreased** when we removed Newspaper from the model. (Error is something we want to minimize, so **a lower number for RMSE is better**.) Thus, it is unlikely that this feature is useful for predicting Sales, and should be removed from the model."
      ]
    },
    {
      "metadata": {
        "id": "uLlDj30l8neo",
        "colab_type": "code",
        "outputId": "859e2edd-04bd-4bfb-fa4e-e2382609b931",
        "colab": {
          "base_uri": "https://localhost:8080/",
          "height": 321
        }
      },
      "cell_type": "code",
      "source": [
        "from IPython.core.display import HTML\n",
        "def css_styling():\n",
        "    styles = open(\"styles/custom.css\", \"r\").read()\n",
        "    return HTML(styles)\n",
        "css_styling()"
      ],
      "execution_count": 27,
      "outputs": [
        {
          "output_type": "error",
          "ename": "FileNotFoundError",
          "evalue": "ignored",
          "traceback": [
            "\u001b[0;31m---------------------------------------------------------------------------\u001b[0m",
            "\u001b[0;31mFileNotFoundError\u001b[0m                         Traceback (most recent call last)",
            "\u001b[0;32m<ipython-input-27-8f4b60a44674>\u001b[0m in \u001b[0;36m<module>\u001b[0;34m()\u001b[0m\n\u001b[1;32m      3\u001b[0m     \u001b[0mstyles\u001b[0m \u001b[0;34m=\u001b[0m \u001b[0mopen\u001b[0m\u001b[0;34m(\u001b[0m\u001b[0;34m\"styles/custom.css\"\u001b[0m\u001b[0;34m,\u001b[0m \u001b[0;34m\"r\"\u001b[0m\u001b[0;34m)\u001b[0m\u001b[0;34m.\u001b[0m\u001b[0mread\u001b[0m\u001b[0;34m(\u001b[0m\u001b[0;34m)\u001b[0m\u001b[0;34m\u001b[0m\u001b[0m\n\u001b[1;32m      4\u001b[0m     \u001b[0;32mreturn\u001b[0m \u001b[0mHTML\u001b[0m\u001b[0;34m(\u001b[0m\u001b[0mstyles\u001b[0m\u001b[0;34m)\u001b[0m\u001b[0;34m\u001b[0m\u001b[0m\n\u001b[0;32m----> 5\u001b[0;31m \u001b[0mcss_styling\u001b[0m\u001b[0;34m(\u001b[0m\u001b[0;34m)\u001b[0m\u001b[0;34m\u001b[0m\u001b[0m\n\u001b[0m",
            "\u001b[0;32m<ipython-input-27-8f4b60a44674>\u001b[0m in \u001b[0;36mcss_styling\u001b[0;34m()\u001b[0m\n\u001b[1;32m      1\u001b[0m \u001b[0;32mfrom\u001b[0m \u001b[0mIPython\u001b[0m\u001b[0;34m.\u001b[0m\u001b[0mcore\u001b[0m\u001b[0;34m.\u001b[0m\u001b[0mdisplay\u001b[0m \u001b[0;32mimport\u001b[0m \u001b[0mHTML\u001b[0m\u001b[0;34m\u001b[0m\u001b[0m\n\u001b[1;32m      2\u001b[0m \u001b[0;32mdef\u001b[0m \u001b[0mcss_styling\u001b[0m\u001b[0;34m(\u001b[0m\u001b[0;34m)\u001b[0m\u001b[0;34m:\u001b[0m\u001b[0;34m\u001b[0m\u001b[0m\n\u001b[0;32m----> 3\u001b[0;31m     \u001b[0mstyles\u001b[0m \u001b[0;34m=\u001b[0m \u001b[0mopen\u001b[0m\u001b[0;34m(\u001b[0m\u001b[0;34m\"styles/custom.css\"\u001b[0m\u001b[0;34m,\u001b[0m \u001b[0;34m\"r\"\u001b[0m\u001b[0;34m)\u001b[0m\u001b[0;34m.\u001b[0m\u001b[0mread\u001b[0m\u001b[0;34m(\u001b[0m\u001b[0;34m)\u001b[0m\u001b[0;34m\u001b[0m\u001b[0m\n\u001b[0m\u001b[1;32m      4\u001b[0m     \u001b[0;32mreturn\u001b[0m \u001b[0mHTML\u001b[0m\u001b[0;34m(\u001b[0m\u001b[0mstyles\u001b[0m\u001b[0;34m)\u001b[0m\u001b[0;34m\u001b[0m\u001b[0m\n\u001b[1;32m      5\u001b[0m \u001b[0mcss_styling\u001b[0m\u001b[0;34m(\u001b[0m\u001b[0;34m)\u001b[0m\u001b[0;34m\u001b[0m\u001b[0m\n",
            "\u001b[0;31mFileNotFoundError\u001b[0m: [Errno 2] No such file or directory: 'styles/custom.css'"
          ]
        }
      ]
    }
  ]
}
